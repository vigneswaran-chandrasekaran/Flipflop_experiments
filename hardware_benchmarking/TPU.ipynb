{
  "nbformat": 4,
  "nbformat_minor": 0,
  "metadata": {
    "colab": {
      "name": "TPU.ipynb",
      "provenance": [],
      "collapsed_sections": []
    },
    "kernelspec": {
      "name": "python3",
      "display_name": "Python 3"
    },
    "language_info": {
      "name": "python"
    },
    "accelerator": "TPU"
  },
  "cells": [
    {
      "cell_type": "code",
      "metadata": {
        "id": "fxnFQayUG2RS"
      },
      "source": [
        "!pip install memory_profiler > NULL"
      ],
      "execution_count": 1,
      "outputs": []
    },
    {
      "cell_type": "code",
      "metadata": {
        "colab": {
          "base_uri": "https://localhost:8080/"
        },
        "id": "Aa0GFfaBIZSE",
        "outputId": "5a1f10fa-ebab-4f27-b7ea-b98848be1ddb"
      },
      "source": [
        "!python -m memory_profiler performance_ff.py"
      ],
      "execution_count": 2,
      "outputs": [
        {
          "output_type": "stream",
          "name": "stdout",
          "text": [
            "2021-09-23 07:54:32.660228: E tensorflow/stream_executor/cuda/cuda_driver.cc:271] failed call to cuInit: CUDA_ERROR_NO_DEVICE: no CUDA-capable device is detected\n",
            "2021-09-23 07:54:32.660292: I tensorflow/stream_executor/cuda/cuda_diagnostics.cc:156] kernel driver does not appear to be running on this host (215be3472532): /proc/driver/nvidia/version does not exist\n",
            "2021-09-23 07:54:32.746950: I tensorflow/core/distributed_runtime/rpc/grpc_channel.cc:272] Initialize GrpcChannelCache for job worker -> {0 -> 10.41.101.50:8470}\n",
            "2021-09-23 07:54:32.747034: I tensorflow/core/distributed_runtime/rpc/grpc_channel.cc:272] Initialize GrpcChannelCache for job localhost -> {0 -> localhost:32909}\n",
            "2021-09-23 07:54:32.769705: I tensorflow/core/distributed_runtime/rpc/grpc_channel.cc:272] Initialize GrpcChannelCache for job worker -> {0 -> 10.41.101.50:8470}\n",
            "2021-09-23 07:54:32.769765: I tensorflow/core/distributed_runtime/rpc/grpc_channel.cc:272] Initialize GrpcChannelCache for job localhost -> {0 -> localhost:32909}\n",
            "2021-09-23 07:54:32.771045: I tensorflow/core/distributed_runtime/rpc/grpc_server_lib.cc:427] Started server with target: grpc://localhost:32909\n",
            "All devices:  [LogicalDevice(name='/job:worker/replica:0/task:0/device:TPU:0', device_type='TPU'), LogicalDevice(name='/job:worker/replica:0/task:0/device:TPU:1', device_type='TPU'), LogicalDevice(name='/job:worker/replica:0/task:0/device:TPU:2', device_type='TPU'), LogicalDevice(name='/job:worker/replica:0/task:0/device:TPU:3', device_type='TPU'), LogicalDevice(name='/job:worker/replica:0/task:0/device:TPU:4', device_type='TPU'), LogicalDevice(name='/job:worker/replica:0/task:0/device:TPU:5', device_type='TPU'), LogicalDevice(name='/job:worker/replica:0/task:0/device:TPU:6', device_type='TPU'), LogicalDevice(name='/job:worker/replica:0/task:0/device:TPU:7', device_type='TPU')]\n",
            "Epoch 1/2\n",
            "1/1 [==============================] - 6s 6s/step - loss: 0.1001\n",
            "Epoch 2/2\n",
            "1/1 [==============================] - 0s 22ms/step - loss: 0.1000\n",
            "Filename: performance_ff.py\n",
            "\n",
            "Line #    Mem usage    Increment  Occurences   Line Contents\n",
            "============================================================\n",
            "    32    378.5 MiB    378.5 MiB           1   @profile\n",
            "    33                                         def test():\n",
            "    34    378.5 MiB      0.0 MiB           1       batch_size = 256\n",
            "    35    378.5 MiB      0.0 MiB           1       seq_len = 300\n",
            "    36    378.5 MiB      0.0 MiB           1       input_dim = 50\n",
            "    37    378.5 MiB      0.0 MiB           1       output_dim = 10\n",
            "    38    378.7 MiB      0.2 MiB           1       with strategy.scope():\n",
            "    39    408.0 MiB     29.3 MiB           1         input = np.random.rand(batch_size, seq_len, input_dim)\n",
            "    40    408.0 MiB      0.0 MiB           1         output = np.random.rand(batch_size, output_dim)\n",
            "    41    411.8 MiB      3.8 MiB           1         model = tf.keras.Sequential(tf.keras.layers.RNN(FF(output_dim), input_shape=(seq_len, input_dim)))\n",
            "    42    412.3 MiB      0.5 MiB           1         model.compile('SGD', 'mse')\n",
            "    43    491.5 MiB     79.1 MiB           1         model.fit(input, output, epochs=2, batch_size=batch_size)\n",
            "\n",
            "\n"
          ]
        }
      ]
    },
    {
      "cell_type": "code",
      "metadata": {
        "colab": {
          "base_uri": "https://localhost:8080/"
        },
        "id": "cL8T3vUWI4_f",
        "outputId": "6266a831-7de7-4ccf-d90a-a2336789118c"
      },
      "source": [
        "!python -m memory_profiler performance_lstm.py"
      ],
      "execution_count": 3,
      "outputs": [
        {
          "output_type": "stream",
          "name": "stdout",
          "text": [
            "2021-09-23 07:54:58.664543: E tensorflow/stream_executor/cuda/cuda_driver.cc:271] failed call to cuInit: CUDA_ERROR_NO_DEVICE: no CUDA-capable device is detected\n",
            "2021-09-23 07:54:58.664599: I tensorflow/stream_executor/cuda/cuda_diagnostics.cc:156] kernel driver does not appear to be running on this host (215be3472532): /proc/driver/nvidia/version does not exist\n",
            "2021-09-23 07:54:58.669559: I tensorflow/core/distributed_runtime/rpc/grpc_channel.cc:272] Initialize GrpcChannelCache for job worker -> {0 -> 10.41.101.50:8470}\n",
            "2021-09-23 07:54:58.669615: I tensorflow/core/distributed_runtime/rpc/grpc_channel.cc:272] Initialize GrpcChannelCache for job localhost -> {0 -> localhost:33020}\n",
            "2021-09-23 07:54:58.683867: I tensorflow/core/distributed_runtime/rpc/grpc_channel.cc:272] Initialize GrpcChannelCache for job worker -> {0 -> 10.41.101.50:8470}\n",
            "2021-09-23 07:54:58.683972: I tensorflow/core/distributed_runtime/rpc/grpc_channel.cc:272] Initialize GrpcChannelCache for job localhost -> {0 -> localhost:33020}\n",
            "2021-09-23 07:54:58.684406: I tensorflow/core/distributed_runtime/rpc/grpc_server_lib.cc:427] Started server with target: grpc://localhost:33020\n",
            "All devices:  [LogicalDevice(name='/job:worker/replica:0/task:0/device:TPU:0', device_type='TPU'), LogicalDevice(name='/job:worker/replica:0/task:0/device:TPU:1', device_type='TPU'), LogicalDevice(name='/job:worker/replica:0/task:0/device:TPU:2', device_type='TPU'), LogicalDevice(name='/job:worker/replica:0/task:0/device:TPU:3', device_type='TPU'), LogicalDevice(name='/job:worker/replica:0/task:0/device:TPU:4', device_type='TPU'), LogicalDevice(name='/job:worker/replica:0/task:0/device:TPU:5', device_type='TPU'), LogicalDevice(name='/job:worker/replica:0/task:0/device:TPU:6', device_type='TPU'), LogicalDevice(name='/job:worker/replica:0/task:0/device:TPU:7', device_type='TPU')]\n",
            "Epoch 1/2\n",
            "1/1 [==============================] - 7s 7s/step - loss: 0.4085\n",
            "Epoch 2/2\n",
            "1/1 [==============================] - 0s 21ms/step - loss: 0.4027\n",
            "Filename: performance_lstm.py\n",
            "\n",
            "Line #    Mem usage    Increment  Occurences   Line Contents\n",
            "============================================================\n",
            "    32    378.9 MiB    378.9 MiB           1   @profile\n",
            "    33                                         def test():\n",
            "    34    378.9 MiB      0.0 MiB           1       batch_size = 256\n",
            "    35    378.9 MiB      0.0 MiB           1       seq_len = 300\n",
            "    36    378.9 MiB      0.0 MiB           1       input_dim = 50\n",
            "    37    378.9 MiB      0.0 MiB           1       output_dim = 10\n",
            "    38    379.1 MiB      0.2 MiB           1       with strategy.scope():\n",
            "    39    408.8 MiB     29.7 MiB           1         input = np.random.rand(batch_size, seq_len, input_dim)\n",
            "    40    408.8 MiB      0.0 MiB           1         output = np.random.rand(batch_size, output_dim)\n",
            "    41    415.8 MiB      7.1 MiB           1         model = tf.keras.Sequential(tf.keras.layers.LSTM(output_dim, input_shape=(seq_len, input_dim)))\n",
            "    42    416.2 MiB      0.4 MiB           1         model.compile('SGD', 'mse')\n",
            "    43    496.4 MiB     80.2 MiB           1         model.fit(input, output, epochs=2, batch_size=batch_size)\n",
            "\n",
            "\n"
          ]
        }
      ]
    },
    {
      "cell_type": "code",
      "metadata": {
        "colab": {
          "base_uri": "https://localhost:8080/"
        },
        "id": "AhHqkU9HfTJg",
        "outputId": "918d080f-2c07-4cfb-c6c3-438b9a2f5e48"
      },
      "source": [
        "!python -m memory_profiler performance_convff.py"
      ],
      "execution_count": 4,
      "outputs": [
        {
          "output_type": "stream",
          "name": "stdout",
          "text": [
            "2021-09-23 07:57:46.596887: E tensorflow/stream_executor/cuda/cuda_driver.cc:271] failed call to cuInit: CUDA_ERROR_NO_DEVICE: no CUDA-capable device is detected\n",
            "2021-09-23 07:57:46.596943: I tensorflow/stream_executor/cuda/cuda_diagnostics.cc:156] kernel driver does not appear to be running on this host (215be3472532): /proc/driver/nvidia/version does not exist\n",
            "2021-09-23 07:57:46.602002: I tensorflow/core/distributed_runtime/rpc/grpc_channel.cc:272] Initialize GrpcChannelCache for job worker -> {0 -> 10.41.101.50:8470}\n",
            "2021-09-23 07:57:46.602060: I tensorflow/core/distributed_runtime/rpc/grpc_channel.cc:272] Initialize GrpcChannelCache for job localhost -> {0 -> localhost:33149}\n",
            "2021-09-23 07:57:46.620493: I tensorflow/core/distributed_runtime/rpc/grpc_channel.cc:272] Initialize GrpcChannelCache for job worker -> {0 -> 10.41.101.50:8470}\n",
            "2021-09-23 07:57:46.620559: I tensorflow/core/distributed_runtime/rpc/grpc_channel.cc:272] Initialize GrpcChannelCache for job localhost -> {0 -> localhost:33149}\n",
            "2021-09-23 07:57:46.621294: I tensorflow/core/distributed_runtime/rpc/grpc_server_lib.cc:427] Started server with target: grpc://localhost:33149\n",
            "All devices:  [LogicalDevice(name='/job:worker/replica:0/task:0/device:TPU:0', device_type='TPU'), LogicalDevice(name='/job:worker/replica:0/task:0/device:TPU:1', device_type='TPU'), LogicalDevice(name='/job:worker/replica:0/task:0/device:TPU:2', device_type='TPU'), LogicalDevice(name='/job:worker/replica:0/task:0/device:TPU:3', device_type='TPU'), LogicalDevice(name='/job:worker/replica:0/task:0/device:TPU:4', device_type='TPU'), LogicalDevice(name='/job:worker/replica:0/task:0/device:TPU:5', device_type='TPU'), LogicalDevice(name='/job:worker/replica:0/task:0/device:TPU:6', device_type='TPU'), LogicalDevice(name='/job:worker/replica:0/task:0/device:TPU:7', device_type='TPU')]\n",
            "Epoch 1/2\n",
            "1/1 [==============================] - 14s 14s/step - loss: 0.6683\n",
            "Epoch 2/2\n",
            "1/1 [==============================] - 0s 99ms/step - loss: 0.3907\n",
            "Filename: performance_convff.py\n",
            "\n",
            "Line #    Mem usage    Increment  Occurences   Line Contents\n",
            "============================================================\n",
            "    11    380.2 MiB    380.2 MiB           1   @profile\n",
            "    12                                         def test():\n",
            "    13    380.2 MiB      0.0 MiB           1       batch_size = 64\n",
            "    14    380.2 MiB      0.0 MiB           1       seq_len = 300\n",
            "    15    380.2 MiB      0.0 MiB           1       input_dim = (16, 16, 3)\n",
            "    16    380.2 MiB      0.0 MiB           1       output_dim = 30\n",
            "    17    380.4 MiB      0.2 MiB           1       with strategy.scope():\n",
            "    18    493.1 MiB    112.7 MiB           1           input = np.random.rand(batch_size, seq_len, 16, 16, 3)\n",
            "    19    493.1 MiB      0.0 MiB           1           output = np.random.rand(batch_size, output_dim)\n",
            "    20    493.5 MiB      0.4 MiB           1           model = tf.keras.Sequential()\n",
            "    21    494.3 MiB      0.8 MiB           1           model.add(ConvFF2D(8, (3, 3), input_shape=(seq_len, 16, 16, 3)))\n",
            "    22    494.5 MiB      0.2 MiB           1           model.add(tf.keras.layers.Flatten())\n",
            "    23    494.5 MiB      0.0 MiB           1           model.add(tf.keras.layers.Dense(output_dim))\n",
            "    24    494.9 MiB      0.4 MiB           1           model.compile('SGD', 'mse')\n",
            "    25    701.3 MiB    206.5 MiB           1           model.fit(input, output, epochs=2, batch_size=batch_size)\n",
            "\n",
            "\n"
          ]
        }
      ]
    },
    {
      "cell_type": "code",
      "metadata": {
        "colab": {
          "base_uri": "https://localhost:8080/"
        },
        "id": "t818e1eLkH8q",
        "outputId": "926105d7-753e-4ca7-d1aa-91d636aff8c9"
      },
      "source": [
        "!python -m memory_profiler performance_convlstm.py"
      ],
      "execution_count": 5,
      "outputs": [
        {
          "output_type": "stream",
          "name": "stdout",
          "text": [
            "2021-09-23 07:58:15.531846: E tensorflow/stream_executor/cuda/cuda_driver.cc:271] failed call to cuInit: CUDA_ERROR_NO_DEVICE: no CUDA-capable device is detected\n",
            "2021-09-23 07:58:15.531903: I tensorflow/stream_executor/cuda/cuda_diagnostics.cc:156] kernel driver does not appear to be running on this host (215be3472532): /proc/driver/nvidia/version does not exist\n",
            "2021-09-23 07:58:15.536874: I tensorflow/core/distributed_runtime/rpc/grpc_channel.cc:272] Initialize GrpcChannelCache for job worker -> {0 -> 10.41.101.50:8470}\n",
            "2021-09-23 07:58:15.536929: I tensorflow/core/distributed_runtime/rpc/grpc_channel.cc:272] Initialize GrpcChannelCache for job localhost -> {0 -> localhost:33260}\n",
            "2021-09-23 07:58:15.552706: I tensorflow/core/distributed_runtime/rpc/grpc_channel.cc:272] Initialize GrpcChannelCache for job worker -> {0 -> 10.41.101.50:8470}\n",
            "2021-09-23 07:58:15.556092: I tensorflow/core/distributed_runtime/rpc/grpc_channel.cc:272] Initialize GrpcChannelCache for job localhost -> {0 -> localhost:33260}\n",
            "2021-09-23 07:58:15.556735: I tensorflow/core/distributed_runtime/rpc/grpc_server_lib.cc:427] Started server with target: grpc://localhost:33260\n",
            "All devices:  [LogicalDevice(name='/job:worker/replica:0/task:0/device:TPU:0', device_type='TPU'), LogicalDevice(name='/job:worker/replica:0/task:0/device:TPU:1', device_type='TPU'), LogicalDevice(name='/job:worker/replica:0/task:0/device:TPU:2', device_type='TPU'), LogicalDevice(name='/job:worker/replica:0/task:0/device:TPU:3', device_type='TPU'), LogicalDevice(name='/job:worker/replica:0/task:0/device:TPU:4', device_type='TPU'), LogicalDevice(name='/job:worker/replica:0/task:0/device:TPU:5', device_type='TPU'), LogicalDevice(name='/job:worker/replica:0/task:0/device:TPU:6', device_type='TPU'), LogicalDevice(name='/job:worker/replica:0/task:0/device:TPU:7', device_type='TPU')]\n",
            "Epoch 1/2\n",
            "1/1 [==============================] - 8s 8s/step - loss: 0.5666\n",
            "Epoch 2/2\n",
            "1/1 [==============================] - 0s 165ms/step - loss: 0.4852\n",
            "Filename: performance_convlstm.py\n",
            "\n",
            "Line #    Mem usage    Increment  Occurences   Line Contents\n",
            "============================================================\n",
            "    11    368.0 MiB    368.0 MiB           1   @profile\n",
            "    12                                         def test():\n",
            "    13    368.0 MiB      0.0 MiB           1       batch_size = 64\n",
            "    14    368.0 MiB      0.0 MiB           1       seq_len = 300\n",
            "    15    368.0 MiB      0.0 MiB           1       input_dim = (16, 16, 3)\n",
            "    16    368.0 MiB      0.0 MiB           1       output_dim = 30\n",
            "    17    368.1 MiB      0.1 MiB           1       with strategy.scope():\n",
            "    18    480.9 MiB    112.8 MiB           1           input = np.random.rand(batch_size, seq_len, 16, 16, 3)\n",
            "    19    480.9 MiB      0.0 MiB           1           output = np.random.rand(batch_size, output_dim)\n",
            "    20    491.1 MiB     10.2 MiB           1           model = tf.keras.Sequential()\n",
            "    21    494.7 MiB      3.6 MiB           1           model.add(tf.keras.layers.ConvLSTM2D(8, (3, 3), input_shape=(seq_len, 16, 16, 3)))\n",
            "    22    494.7 MiB      0.0 MiB           1           model.add(tf.keras.layers.Flatten())\n",
            "    23    494.9 MiB      0.2 MiB           1           model.add(tf.keras.layers.Dense(output_dim))\n",
            "    24    495.4 MiB      0.5 MiB           1           model.compile('SGD', 'mse')\n",
            "    25    700.0 MiB    204.6 MiB           1           model.fit(input, output, epochs=2, batch_size=batch_size)\n",
            "\n",
            "\n"
          ]
        }
      ]
    }
  ]
}