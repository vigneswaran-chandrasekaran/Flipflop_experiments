{
  "nbformat": 4,
  "nbformat_minor": 0,
  "metadata": {
    "colab": {
      "name": "CPU.ipynb",
      "provenance": [],
      "collapsed_sections": []
    },
    "kernelspec": {
      "name": "python3",
      "display_name": "Python 3"
    },
    "language_info": {
      "name": "python"
    }
  },
  "cells": [
    {
      "cell_type": "code",
      "metadata": {
        "colab": {
          "base_uri": "https://localhost:8080/"
        },
        "id": "fxnFQayUG2RS",
        "outputId": "f089b5ed-49fe-4a2b-cdda-fc6a435c33b9"
      },
      "source": [
        "!pip install memory_profiler "
      ],
      "execution_count": null,
      "outputs": [
        {
          "output_type": "stream",
          "name": "stdout",
          "text": [
            "Collecting memory_profiler\n",
            "  Downloading memory_profiler-0.58.0.tar.gz (36 kB)\n",
            "Requirement already satisfied: psutil in /usr/local/lib/python3.7/dist-packages (from memory_profiler) (5.4.8)\n",
            "Building wheels for collected packages: memory-profiler\n",
            "  Building wheel for memory-profiler (setup.py) ... \u001b[?25l\u001b[?25hdone\n",
            "  Created wheel for memory-profiler: filename=memory_profiler-0.58.0-py3-none-any.whl size=30190 sha256=31b41f9cc42124e6c5c71ed8478cd61d48795725a486b5ae55bcc1eae3920462\n",
            "  Stored in directory: /root/.cache/pip/wheels/56/19/d5/8cad06661aec65a04a0d6785b1a5ad035cb645b1772a4a0882\n",
            "Successfully built memory-profiler\n",
            "Installing collected packages: memory-profiler\n",
            "Successfully installed memory-profiler-0.58.0\n"
          ]
        }
      ]
    },
    {
      "cell_type": "code",
      "metadata": {
        "colab": {
          "base_uri": "https://localhost:8080/"
        },
        "id": "u3ZT4HFbTz3D",
        "outputId": "574f9eb6-e008-440b-a804-b54a29eeac49"
      },
      "source": [
        "!cat /proc/cpuinfo"
      ],
      "execution_count": null,
      "outputs": [
        {
          "output_type": "stream",
          "name": "stdout",
          "text": [
            "processor\t: 0\n",
            "vendor_id\t: GenuineIntel\n",
            "cpu family\t: 6\n",
            "model\t\t: 85\n",
            "model name\t: Intel(R) Xeon(R) CPU @ 2.00GHz\n",
            "stepping\t: 3\n",
            "microcode\t: 0x1\n",
            "cpu MHz\t\t: 2000.182\n",
            "cache size\t: 39424 KB\n",
            "physical id\t: 0\n",
            "siblings\t: 2\n",
            "core id\t\t: 0\n",
            "cpu cores\t: 1\n",
            "apicid\t\t: 0\n",
            "initial apicid\t: 0\n",
            "fpu\t\t: yes\n",
            "fpu_exception\t: yes\n",
            "cpuid level\t: 13\n",
            "wp\t\t: yes\n",
            "flags\t\t: fpu vme de pse tsc msr pae mce cx8 apic sep mtrr pge mca cmov pat pse36 clflush mmx fxsr sse sse2 ss ht syscall nx pdpe1gb rdtscp lm constant_tsc rep_good nopl xtopology nonstop_tsc cpuid tsc_known_freq pni pclmulqdq ssse3 fma cx16 pcid sse4_1 sse4_2 x2apic movbe popcnt aes xsave avx f16c rdrand hypervisor lahf_lm abm 3dnowprefetch invpcid_single ssbd ibrs ibpb stibp fsgsbase tsc_adjust bmi1 hle avx2 smep bmi2 erms invpcid rtm mpx avx512f avx512dq rdseed adx smap clflushopt clwb avx512cd avx512bw avx512vl xsaveopt xsavec xgetbv1 xsaves arat md_clear arch_capabilities\n",
            "bugs\t\t: cpu_meltdown spectre_v1 spectre_v2 spec_store_bypass l1tf mds swapgs taa\n",
            "bogomips\t: 4000.36\n",
            "clflush size\t: 64\n",
            "cache_alignment\t: 64\n",
            "address sizes\t: 46 bits physical, 48 bits virtual\n",
            "power management:\n",
            "\n",
            "processor\t: 1\n",
            "vendor_id\t: GenuineIntel\n",
            "cpu family\t: 6\n",
            "model\t\t: 85\n",
            "model name\t: Intel(R) Xeon(R) CPU @ 2.00GHz\n",
            "stepping\t: 3\n",
            "microcode\t: 0x1\n",
            "cpu MHz\t\t: 2000.182\n",
            "cache size\t: 39424 KB\n",
            "physical id\t: 0\n",
            "siblings\t: 2\n",
            "core id\t\t: 0\n",
            "cpu cores\t: 1\n",
            "apicid\t\t: 1\n",
            "initial apicid\t: 1\n",
            "fpu\t\t: yes\n",
            "fpu_exception\t: yes\n",
            "cpuid level\t: 13\n",
            "wp\t\t: yes\n",
            "flags\t\t: fpu vme de pse tsc msr pae mce cx8 apic sep mtrr pge mca cmov pat pse36 clflush mmx fxsr sse sse2 ss ht syscall nx pdpe1gb rdtscp lm constant_tsc rep_good nopl xtopology nonstop_tsc cpuid tsc_known_freq pni pclmulqdq ssse3 fma cx16 pcid sse4_1 sse4_2 x2apic movbe popcnt aes xsave avx f16c rdrand hypervisor lahf_lm abm 3dnowprefetch invpcid_single ssbd ibrs ibpb stibp fsgsbase tsc_adjust bmi1 hle avx2 smep bmi2 erms invpcid rtm mpx avx512f avx512dq rdseed adx smap clflushopt clwb avx512cd avx512bw avx512vl xsaveopt xsavec xgetbv1 xsaves arat md_clear arch_capabilities\n",
            "bugs\t\t: cpu_meltdown spectre_v1 spectre_v2 spec_store_bypass l1tf mds swapgs taa\n",
            "bogomips\t: 4000.36\n",
            "clflush size\t: 64\n",
            "cache_alignment\t: 64\n",
            "address sizes\t: 46 bits physical, 48 bits virtual\n",
            "power management:\n",
            "\n"
          ]
        }
      ]
    },
    {
      "cell_type": "code",
      "metadata": {
        "colab": {
          "base_uri": "https://localhost:8080/"
        },
        "id": "Aa0GFfaBIZSE",
        "outputId": "9f4a5668-15bd-4041-ea09-87e8171ea4a2"
      },
      "source": [
        "!python -m memory_profiler performance_ff.py"
      ],
      "execution_count": null,
      "outputs": [
        {
          "output_type": "stream",
          "name": "stdout",
          "text": [
            "2021-09-22 11:50:06.288886: E tensorflow/stream_executor/cuda/cuda_driver.cc:271] failed call to cuInit: CUDA_ERROR_NO_DEVICE: no CUDA-capable device is detected\n",
            "2021-09-22 11:50:06.288951: I tensorflow/stream_executor/cuda/cuda_diagnostics.cc:156] kernel driver does not appear to be running on this host (08d494c54d34): /proc/driver/nvidia/version does not exist\n",
            "2021-09-22 11:50:06.289648: I tensorflow/core/platform/cpu_feature_guard.cc:142] This TensorFlow binary is optimized with oneAPI Deep Neural Network Library (oneDNN) to use the following CPU instructions in performance-critical operations:  AVX512F\n",
            "To enable them in other operations, rebuild TensorFlow with the appropriate compiler flags.\n",
            "2021-09-22 11:50:08.375852: I tensorflow/compiler/mlir/mlir_graph_optimization_pass.cc:185] None of the MLIR Optimization Passes are enabled (registered 2)\n",
            "1/1 [==============================] - 4s 4s/step - loss: 0.1117\n",
            "Filename: performance_ff.py\n",
            "\n",
            "Line #    Mem usage    Increment  Occurences   Line Contents\n",
            "============================================================\n",
            "    26    327.9 MiB    327.9 MiB           1   @profile\n",
            "    27                                         def test():\n",
            "    28    327.9 MiB      0.0 MiB           1       batch_size = 256\n",
            "    29    327.9 MiB      0.0 MiB           1       seq_len = 300\n",
            "    30    327.9 MiB      0.0 MiB           1       input_dim = 50\n",
            "    31    327.9 MiB      0.0 MiB           1       output_dim = 10\n",
            "    32                                         \n",
            "    33    357.4 MiB     29.5 MiB           1       input = np.random.rand(batch_size, seq_len, input_dim)\n",
            "    34    357.4 MiB      0.0 MiB           1       output = np.random.rand(batch_size, output_dim)\n",
            "    35    372.0 MiB     14.6 MiB           1       model = tf.keras.Sequential(tf.keras.layers.RNN(FF(output_dim), input_shape=(seq_len, input_dim)))\n",
            "    36    372.0 MiB      0.0 MiB           1       model.compile('SGD', 'mse')\n",
            "    37    490.6 MiB    118.5 MiB           1       model.fit(input, output, epochs=1, batch_size=batch_size)\n",
            "\n",
            "\n"
          ]
        }
      ]
    },
    {
      "cell_type": "code",
      "metadata": {
        "colab": {
          "base_uri": "https://localhost:8080/"
        },
        "id": "cL8T3vUWI4_f",
        "outputId": "d6d35ff9-2910-4c1b-a1f3-a9534b5d6ff6"
      },
      "source": [
        "!python -m memory_profiler performance_lstm.py"
      ],
      "execution_count": null,
      "outputs": [
        {
          "output_type": "stream",
          "name": "stdout",
          "text": [
            "2021-09-22 11:50:16.298147: E tensorflow/stream_executor/cuda/cuda_driver.cc:271] failed call to cuInit: CUDA_ERROR_NO_DEVICE: no CUDA-capable device is detected\n",
            "2021-09-22 11:50:16.298209: I tensorflow/stream_executor/cuda/cuda_diagnostics.cc:156] kernel driver does not appear to be running on this host (08d494c54d34): /proc/driver/nvidia/version does not exist\n",
            "2021-09-22 11:50:16.298853: I tensorflow/core/platform/cpu_feature_guard.cc:142] This TensorFlow binary is optimized with oneAPI Deep Neural Network Library (oneDNN) to use the following CPU instructions in performance-critical operations:  AVX512F\n",
            "To enable them in other operations, rebuild TensorFlow with the appropriate compiler flags.\n",
            "2021-09-22 11:50:18.547909: I tensorflow/compiler/mlir/mlir_graph_optimization_pass.cc:185] None of the MLIR Optimization Passes are enabled (registered 2)\n",
            "1/1 [==============================] - 5s 5s/step - loss: 0.2597\n",
            "Filename: performance_lstm.py\n",
            "\n",
            "Line #    Mem usage    Increment  Occurences   Line Contents\n",
            "============================================================\n",
            "     5    316.4 MiB    316.4 MiB           1   @profile\n",
            "     6                                         def test():\n",
            "     7    316.4 MiB      0.0 MiB           1       batch_size = 256\n",
            "     8    316.4 MiB      0.0 MiB           1       seq_len = 300\n",
            "     9    316.4 MiB      0.0 MiB           1       input_dim = 50\n",
            "    10    316.4 MiB      0.0 MiB           1       output_dim = 10\n",
            "    11                                         \n",
            "    12    346.0 MiB     29.7 MiB           1       input = np.random.rand(batch_size, seq_len, input_dim)\n",
            "    13    346.0 MiB      0.0 MiB           1       output = np.random.rand(batch_size, output_dim)\n",
            "    14    374.9 MiB     28.8 MiB           1       model = tf.keras.Sequential(tf.keras.layers.LSTM(output_dim, input_shape=(seq_len, input_dim)))\n",
            "    15    375.4 MiB      0.5 MiB           1       model.compile('SGD', 'mse')\n",
            "    16    523.0 MiB    147.7 MiB           1       model.fit(input, output, epochs=1, batch_size=batch_size)\n",
            "\n",
            "\n"
          ]
        }
      ]
    },
    {
      "cell_type": "code",
      "metadata": {
        "colab": {
          "base_uri": "https://localhost:8080/"
        },
        "id": "AhHqkU9HfTJg",
        "outputId": "1e22758e-e48a-45ea-bde5-832dfd9f478d"
      },
      "source": [
        "!python -m memory_profiler performance_convff.py"
      ],
      "execution_count": 2,
      "outputs": [
        {
          "output_type": "stream",
          "name": "stdout",
          "text": [
            "2021-09-23 07:29:25.726322: E tensorflow/stream_executor/cuda/cuda_driver.cc:271] failed call to cuInit: CUDA_ERROR_NO_DEVICE: no CUDA-capable device is detected\n",
            "2021-09-23 07:29:25.726408: I tensorflow/stream_executor/cuda/cuda_diagnostics.cc:156] kernel driver does not appear to be running on this host (5b6427ae8f4f): /proc/driver/nvidia/version does not exist\n",
            "2021-09-23 07:29:25.727537: I tensorflow/core/platform/cpu_feature_guard.cc:142] This TensorFlow binary is optimized with oneAPI Deep Neural Network Library (oneDNN) to use the following CPU instructions in performance-critical operations:  AVX512F\n",
            "To enable them in other operations, rebuild TensorFlow with the appropriate compiler flags.\n",
            "2021-09-23 07:29:27.031993: I tensorflow/compiler/mlir/mlir_graph_optimization_pass.cc:185] None of the MLIR Optimization Passes are enabled (registered 2)\n",
            "1/1 [==============================] - 21s 21s/step - loss: 0.6595\n",
            "Filename: performance_convff.py\n",
            "\n",
            "Line #    Mem usage    Increment  Occurences   Line Contents\n",
            "============================================================\n",
            "     6    316.7 MiB    316.7 MiB           1   @profile\n",
            "     7                                         def test():\n",
            "     8    316.7 MiB      0.0 MiB           1       batch_size = 64\n",
            "     9    316.7 MiB      0.0 MiB           1       seq_len = 300\n",
            "    10    316.7 MiB      0.0 MiB           1       input_dim = (16, 16, 3)\n",
            "    11    316.7 MiB      0.0 MiB           1       output_dim = 30\n",
            "    12                                         \n",
            "    13    429.6 MiB    112.9 MiB           1       input = np.random.rand(batch_size, seq_len, 16, 16, 3)\n",
            "    14    429.6 MiB      0.0 MiB           1       output = np.random.rand(batch_size, output_dim)\n",
            "    15    436.1 MiB      6.5 MiB           1       model = tf.keras.Sequential()\n",
            "    16    437.3 MiB      1.2 MiB           1       model.add(ConvFF2D(8, (3, 3), input_shape=(seq_len, 16, 16, 3)))\n",
            "    17    437.5 MiB      0.2 MiB           1       model.add(tf.keras.layers.Flatten())\n",
            "    18    437.5 MiB      0.0 MiB           1       model.add(tf.keras.layers.Dense(output_dim))\n",
            "    19    438.4 MiB      0.8 MiB           1       model.compile('SGD', 'mse')\n",
            "    20   1983.6 MiB   1545.2 MiB           1       model.fit(input, output, epochs=1, batch_size=batch_size)\n",
            "\n",
            "\n"
          ]
        }
      ]
    },
    {
      "cell_type": "code",
      "metadata": {
        "colab": {
          "base_uri": "https://localhost:8080/"
        },
        "id": "t818e1eLkH8q",
        "outputId": "de0914da-fd7f-45b8-fab9-191e46e3a12c"
      },
      "source": [
        "!python -m memory_profiler performance_convlstm.py"
      ],
      "execution_count": 3,
      "outputs": [
        {
          "output_type": "stream",
          "name": "stdout",
          "text": [
            "2021-09-23 07:31:08.684044: E tensorflow/stream_executor/cuda/cuda_driver.cc:271] failed call to cuInit: CUDA_ERROR_NO_DEVICE: no CUDA-capable device is detected\n",
            "2021-09-23 07:31:08.684151: I tensorflow/stream_executor/cuda/cuda_diagnostics.cc:156] kernel driver does not appear to be running on this host (5b6427ae8f4f): /proc/driver/nvidia/version does not exist\n",
            "2021-09-23 07:31:08.685011: I tensorflow/core/platform/cpu_feature_guard.cc:142] This TensorFlow binary is optimized with oneAPI Deep Neural Network Library (oneDNN) to use the following CPU instructions in performance-critical operations:  AVX512F\n",
            "To enable them in other operations, rebuild TensorFlow with the appropriate compiler flags.\n",
            "2021-09-23 07:31:10.511188: I tensorflow/compiler/mlir/mlir_graph_optimization_pass.cc:185] None of the MLIR Optimization Passes are enabled (registered 2)\n",
            "1/1 [==============================] - 23s 23s/step - loss: 0.3847\n",
            "Filename: performance_convlstm.py\n",
            "\n",
            "Line #    Mem usage    Increment  Occurences   Line Contents\n",
            "============================================================\n",
            "     5    300.9 MiB    300.9 MiB           1   @profile\n",
            "     6                                         def test():\n",
            "     7    300.9 MiB      0.0 MiB           1       batch_size = 64\n",
            "     8    300.9 MiB      0.0 MiB           1       seq_len = 300\n",
            "     9    300.9 MiB      0.0 MiB           1       input_dim = (16, 16, 3)\n",
            "    10    300.9 MiB      0.0 MiB           1       output_dim = 30\n",
            "    11                                         \n",
            "    12    413.6 MiB    112.7 MiB           1       input = np.random.rand(batch_size, seq_len, 16, 16, 3)\n",
            "    13    413.6 MiB      0.0 MiB           1       output = np.random.rand(batch_size, output_dim)\n",
            "    14    431.6 MiB     18.0 MiB           1       model = tf.keras.Sequential()\n",
            "    15    441.8 MiB     10.2 MiB           1       model.add(tf.keras.layers.ConvLSTM2D(8, (3, 3), input_shape=(seq_len, 16, 16, 3)))\n",
            "    16    441.8 MiB      0.0 MiB           1       model.add(tf.keras.layers.Flatten())\n",
            "    17    443.1 MiB      1.3 MiB           1       model.add(tf.keras.layers.Dense(output_dim))\n",
            "    18    443.3 MiB      0.2 MiB           1       model.compile('SGD', 'mse')\n",
            "    19   2826.7 MiB   2383.3 MiB           1       model.fit(input, output, epochs=1, batch_size=batch_size)\n",
            "\n",
            "\n"
          ]
        }
      ]
    }
  ]
}