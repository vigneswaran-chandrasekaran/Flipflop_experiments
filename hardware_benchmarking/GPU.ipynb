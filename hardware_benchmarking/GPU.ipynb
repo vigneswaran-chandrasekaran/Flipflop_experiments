{
  "nbformat": 4,
  "nbformat_minor": 0,
  "metadata": {
    "colab": {
      "name": "GPU.ipynb",
      "provenance": [],
      "collapsed_sections": []
    },
    "kernelspec": {
      "name": "python3",
      "display_name": "Python 3"
    },
    "language_info": {
      "name": "python"
    },
    "accelerator": "GPU"
  },
  "cells": [
    {
      "cell_type": "code",
      "metadata": {
        "id": "fxnFQayUG2RS"
      },
      "source": [
        "!pip install memory_profiler > NULL"
      ],
      "execution_count": 1,
      "outputs": []
    },
    {
      "cell_type": "code",
      "metadata": {
        "colab": {
          "base_uri": "https://localhost:8080/"
        },
        "id": "u3ZT4HFbTz3D",
        "outputId": "1f7f7212-f755-4748-8753-cf541b0d5b90"
      },
      "source": [
        "!nvidia-smi -L"
      ],
      "execution_count": 3,
      "outputs": [
        {
          "output_type": "stream",
          "name": "stdout",
          "text": [
            "GPU 0: Tesla K80 (UUID: GPU-d42265fa-6895-1640-b611-452b987bd3f1)\n"
          ]
        }
      ]
    },
    {
      "cell_type": "code",
      "metadata": {
        "colab": {
          "base_uri": "https://localhost:8080/"
        },
        "id": "UO5eHrEEmNma",
        "outputId": "ae7ab91c-f067-40d5-c43e-bcca5b4e3573"
      },
      "source": [
        "!nvidia-smi"
      ],
      "execution_count": 4,
      "outputs": [
        {
          "output_type": "stream",
          "name": "stdout",
          "text": [
            "Thu Sep 23 07:40:11 2021       \n",
            "+-----------------------------------------------------------------------------+\n",
            "| NVIDIA-SMI 470.63.01    Driver Version: 460.32.03    CUDA Version: 11.2     |\n",
            "|-------------------------------+----------------------+----------------------+\n",
            "| GPU  Name        Persistence-M| Bus-Id        Disp.A | Volatile Uncorr. ECC |\n",
            "| Fan  Temp  Perf  Pwr:Usage/Cap|         Memory-Usage | GPU-Util  Compute M. |\n",
            "|                               |                      |               MIG M. |\n",
            "|===============================+======================+======================|\n",
            "|   0  Tesla K80           Off  | 00000000:00:04.0 Off |                    0 |\n",
            "| N/A   70C    P8    34W / 149W |      0MiB / 11441MiB |      0%      Default |\n",
            "|                               |                      |                  N/A |\n",
            "+-------------------------------+----------------------+----------------------+\n",
            "                                                                               \n",
            "+-----------------------------------------------------------------------------+\n",
            "| Processes:                                                                  |\n",
            "|  GPU   GI   CI        PID   Type   Process name                  GPU Memory |\n",
            "|        ID   ID                                                   Usage      |\n",
            "|=============================================================================|\n",
            "|  No running processes found                                                 |\n",
            "+-----------------------------------------------------------------------------+\n"
          ]
        }
      ]
    },
    {
      "cell_type": "code",
      "metadata": {
        "colab": {
          "base_uri": "https://localhost:8080/"
        },
        "id": "Aa0GFfaBIZSE",
        "outputId": "6d41063f-f17f-411b-e404-8d32a9d599bc"
      },
      "source": [
        "!python -m memory_profiler performance_ff.py"
      ],
      "execution_count": 5,
      "outputs": [
        {
          "output_type": "stream",
          "name": "stdout",
          "text": [
            "2021-09-23 07:42:02.849532: I tensorflow/stream_executor/cuda/cuda_gpu_executor.cc:937] successful NUMA node read from SysFS had negative value (-1), but there must be at least one NUMA node, so returning NUMA node zero\n",
            "2021-09-23 07:42:03.223676: I tensorflow/stream_executor/cuda/cuda_gpu_executor.cc:937] successful NUMA node read from SysFS had negative value (-1), but there must be at least one NUMA node, so returning NUMA node zero\n",
            "2021-09-23 07:42:03.224665: I tensorflow/stream_executor/cuda/cuda_gpu_executor.cc:937] successful NUMA node read from SysFS had negative value (-1), but there must be at least one NUMA node, so returning NUMA node zero\n",
            "2021-09-23 07:42:03.226422: I tensorflow/stream_executor/cuda/cuda_gpu_executor.cc:937] successful NUMA node read from SysFS had negative value (-1), but there must be at least one NUMA node, so returning NUMA node zero\n",
            "2021-09-23 07:42:03.227163: I tensorflow/stream_executor/cuda/cuda_gpu_executor.cc:937] successful NUMA node read from SysFS had negative value (-1), but there must be at least one NUMA node, so returning NUMA node zero\n",
            "2021-09-23 07:42:03.228015: I tensorflow/stream_executor/cuda/cuda_gpu_executor.cc:937] successful NUMA node read from SysFS had negative value (-1), but there must be at least one NUMA node, so returning NUMA node zero\n",
            "2021-09-23 07:42:08.495589: I tensorflow/stream_executor/cuda/cuda_gpu_executor.cc:937] successful NUMA node read from SysFS had negative value (-1), but there must be at least one NUMA node, so returning NUMA node zero\n",
            "2021-09-23 07:42:08.496526: I tensorflow/stream_executor/cuda/cuda_gpu_executor.cc:937] successful NUMA node read from SysFS had negative value (-1), but there must be at least one NUMA node, so returning NUMA node zero\n",
            "2021-09-23 07:42:08.497260: I tensorflow/stream_executor/cuda/cuda_gpu_executor.cc:937] successful NUMA node read from SysFS had negative value (-1), but there must be at least one NUMA node, so returning NUMA node zero\n",
            "2021-09-23 07:42:08.498077: W tensorflow/core/common_runtime/gpu/gpu_bfc_allocator.cc:39] Overriding allow_growth setting because the TF_FORCE_GPU_ALLOW_GROWTH environment variable is set. Original config value was 0.\n",
            "2021-09-23 07:42:08.498174: I tensorflow/core/common_runtime/gpu/gpu_device.cc:1510] Created device /job:localhost/replica:0/task:0/device:GPU:0 with 10819 MB memory:  -> device: 0, name: Tesla K80, pci bus id: 0000:00:04.0, compute capability: 3.7\n",
            "2021-09-23 07:42:10.770803: I tensorflow/compiler/mlir/mlir_graph_optimization_pass.cc:185] None of the MLIR Optimization Passes are enabled (registered 2)\n",
            "Epoch 1/2\n",
            "1/1 [==============================] - 6s 6s/step - loss: 0.0971\n",
            "Epoch 2/2\n",
            "1/1 [==============================] - 0s 307ms/step - loss: 0.0970\n",
            "Filename: performance_ff.py\n",
            "\n",
            "Line #    Mem usage    Increment  Occurences   Line Contents\n",
            "============================================================\n",
            "    26    325.9 MiB    325.9 MiB           1   @profile\n",
            "    27                                         def test():\n",
            "    28    325.9 MiB      0.0 MiB           1       batch_size = 256\n",
            "    29    325.9 MiB      0.0 MiB           1       seq_len = 300\n",
            "    30    325.9 MiB      0.0 MiB           1       input_dim = 50\n",
            "    31    325.9 MiB      0.0 MiB           1       output_dim = 10\n",
            "    32                                         \n",
            "    33    355.6 MiB     29.6 MiB           1       input = np.random.rand(batch_size, seq_len, input_dim)\n",
            "    34    355.6 MiB      0.0 MiB           1       output = np.random.rand(batch_size, output_dim)\n",
            "    35    784.7 MiB    429.1 MiB           1       model = tf.keras.Sequential(tf.keras.layers.RNN(FF(output_dim), input_shape=(seq_len, input_dim)))\n",
            "    36    784.7 MiB      0.0 MiB           1       model.compile('SGD', 'mse')\n",
            "    37   1070.0 MiB    285.4 MiB           1       model.fit(input, output, epochs=2, batch_size=batch_size)\n",
            "\n",
            "\n"
          ]
        }
      ]
    },
    {
      "cell_type": "code",
      "metadata": {
        "colab": {
          "base_uri": "https://localhost:8080/"
        },
        "id": "cL8T3vUWI4_f",
        "outputId": "82af1967-6701-447b-a892-ca498d394f63"
      },
      "source": [
        "!python -m memory_profiler performance_lstm.py"
      ],
      "execution_count": 6,
      "outputs": [
        {
          "output_type": "stream",
          "name": "stdout",
          "text": [
            "2021-09-23 07:42:24.450051: I tensorflow/stream_executor/cuda/cuda_gpu_executor.cc:937] successful NUMA node read from SysFS had negative value (-1), but there must be at least one NUMA node, so returning NUMA node zero\n",
            "2021-09-23 07:42:24.462946: I tensorflow/stream_executor/cuda/cuda_gpu_executor.cc:937] successful NUMA node read from SysFS had negative value (-1), but there must be at least one NUMA node, so returning NUMA node zero\n",
            "2021-09-23 07:42:24.463807: I tensorflow/stream_executor/cuda/cuda_gpu_executor.cc:937] successful NUMA node read from SysFS had negative value (-1), but there must be at least one NUMA node, so returning NUMA node zero\n",
            "2021-09-23 07:42:24.465425: I tensorflow/stream_executor/cuda/cuda_gpu_executor.cc:937] successful NUMA node read from SysFS had negative value (-1), but there must be at least one NUMA node, so returning NUMA node zero\n",
            "2021-09-23 07:42:24.466264: I tensorflow/stream_executor/cuda/cuda_gpu_executor.cc:937] successful NUMA node read from SysFS had negative value (-1), but there must be at least one NUMA node, so returning NUMA node zero\n",
            "2021-09-23 07:42:24.467053: I tensorflow/stream_executor/cuda/cuda_gpu_executor.cc:937] successful NUMA node read from SysFS had negative value (-1), but there must be at least one NUMA node, so returning NUMA node zero\n",
            "2021-09-23 07:42:24.946494: I tensorflow/stream_executor/cuda/cuda_gpu_executor.cc:937] successful NUMA node read from SysFS had negative value (-1), but there must be at least one NUMA node, so returning NUMA node zero\n",
            "2021-09-23 07:42:24.947294: I tensorflow/stream_executor/cuda/cuda_gpu_executor.cc:937] successful NUMA node read from SysFS had negative value (-1), but there must be at least one NUMA node, so returning NUMA node zero\n",
            "2021-09-23 07:42:24.948038: I tensorflow/stream_executor/cuda/cuda_gpu_executor.cc:937] successful NUMA node read from SysFS had negative value (-1), but there must be at least one NUMA node, so returning NUMA node zero\n",
            "2021-09-23 07:42:24.948862: W tensorflow/core/common_runtime/gpu/gpu_bfc_allocator.cc:39] Overriding allow_growth setting because the TF_FORCE_GPU_ALLOW_GROWTH environment variable is set. Original config value was 0.\n",
            "2021-09-23 07:42:24.948957: I tensorflow/core/common_runtime/gpu/gpu_device.cc:1510] Created device /job:localhost/replica:0/task:0/device:GPU:0 with 10819 MB memory:  -> device: 0, name: Tesla K80, pci bus id: 0000:00:04.0, compute capability: 3.7\n",
            "2021-09-23 07:42:27.335554: I tensorflow/compiler/mlir/mlir_graph_optimization_pass.cc:185] None of the MLIR Optimization Passes are enabled (registered 2)\n",
            "Epoch 1/2\n",
            "2021-09-23 07:42:34.263507: I tensorflow/stream_executor/cuda/cuda_dnn.cc:369] Loaded cuDNN version 8005\n",
            "1/1 [==============================] - 8s 8s/step - loss: 0.4319\n",
            "Epoch 2/2\n",
            "1/1 [==============================] - 0s 60ms/step - loss: 0.4130\n",
            "Filename: performance_lstm.py\n",
            "\n",
            "Line #    Mem usage    Increment  Occurences   Line Contents\n",
            "============================================================\n",
            "     5    317.0 MiB    317.0 MiB           1   @profile\n",
            "     6                                         def test():\n",
            "     7    317.0 MiB      0.0 MiB           1       batch_size = 256\n",
            "     8    317.0 MiB      0.0 MiB           1       seq_len = 300\n",
            "     9    317.0 MiB      0.0 MiB           1       input_dim = 50\n",
            "    10    317.0 MiB      0.0 MiB           1       output_dim = 10\n",
            "    11                                         \n",
            "    12    346.8 MiB     29.8 MiB           1       input = np.random.rand(batch_size, seq_len, input_dim)\n",
            "    13    346.8 MiB      0.0 MiB           1       output = np.random.rand(batch_size, output_dim)\n",
            "    14    790.9 MiB    444.2 MiB           1       model = tf.keras.Sequential(tf.keras.layers.LSTM(output_dim, input_shape=(seq_len, input_dim)))\n",
            "    15    790.9 MiB      0.0 MiB           1       model.compile('SGD', 'mse')\n",
            "    16   1145.4 MiB    354.5 MiB           1       model.fit(input, output, epochs=2, batch_size=batch_size)\n",
            "\n",
            "\n"
          ]
        }
      ]
    },
    {
      "cell_type": "code",
      "metadata": {
        "colab": {
          "base_uri": "https://localhost:8080/"
        },
        "id": "AhHqkU9HfTJg",
        "outputId": "0768a01b-bad4-43b8-ded7-06c87e1b6491"
      },
      "source": [
        "!python -m memory_profiler performance_convff.py"
      ],
      "execution_count": 10,
      "outputs": [
        {
          "output_type": "stream",
          "name": "stdout",
          "text": [
            "2021-09-23 07:47:23.396584: I tensorflow/stream_executor/cuda/cuda_gpu_executor.cc:937] successful NUMA node read from SysFS had negative value (-1), but there must be at least one NUMA node, so returning NUMA node zero\n",
            "2021-09-23 07:47:23.405573: I tensorflow/stream_executor/cuda/cuda_gpu_executor.cc:937] successful NUMA node read from SysFS had negative value (-1), but there must be at least one NUMA node, so returning NUMA node zero\n",
            "2021-09-23 07:47:23.406473: I tensorflow/stream_executor/cuda/cuda_gpu_executor.cc:937] successful NUMA node read from SysFS had negative value (-1), but there must be at least one NUMA node, so returning NUMA node zero\n",
            "2021-09-23 07:47:23.408580: I tensorflow/stream_executor/cuda/cuda_gpu_executor.cc:937] successful NUMA node read from SysFS had negative value (-1), but there must be at least one NUMA node, so returning NUMA node zero\n",
            "2021-09-23 07:47:23.409394: I tensorflow/stream_executor/cuda/cuda_gpu_executor.cc:937] successful NUMA node read from SysFS had negative value (-1), but there must be at least one NUMA node, so returning NUMA node zero\n",
            "2021-09-23 07:47:23.410107: I tensorflow/stream_executor/cuda/cuda_gpu_executor.cc:937] successful NUMA node read from SysFS had negative value (-1), but there must be at least one NUMA node, so returning NUMA node zero\n",
            "2021-09-23 07:47:23.908511: I tensorflow/stream_executor/cuda/cuda_gpu_executor.cc:937] successful NUMA node read from SysFS had negative value (-1), but there must be at least one NUMA node, so returning NUMA node zero\n",
            "2021-09-23 07:47:23.909462: I tensorflow/stream_executor/cuda/cuda_gpu_executor.cc:937] successful NUMA node read from SysFS had negative value (-1), but there must be at least one NUMA node, so returning NUMA node zero\n",
            "2021-09-23 07:47:23.910266: I tensorflow/stream_executor/cuda/cuda_gpu_executor.cc:937] successful NUMA node read from SysFS had negative value (-1), but there must be at least one NUMA node, so returning NUMA node zero\n",
            "2021-09-23 07:47:23.910968: W tensorflow/core/common_runtime/gpu/gpu_bfc_allocator.cc:39] Overriding allow_growth setting because the TF_FORCE_GPU_ALLOW_GROWTH environment variable is set. Original config value was 0.\n",
            "2021-09-23 07:47:23.911046: I tensorflow/core/common_runtime/gpu/gpu_device.cc:1510] Created device /job:localhost/replica:0/task:0/device:GPU:0 with 10819 MB memory:  -> device: 0, name: Tesla K80, pci bus id: 0000:00:04.0, compute capability: 3.7\n",
            "2021-09-23 07:47:25.218936: I tensorflow/compiler/mlir/mlir_graph_optimization_pass.cc:185] None of the MLIR Optimization Passes are enabled (registered 2)\n",
            "Epoch 1/2\n",
            "2021-09-23 07:47:37.007860: E tensorflow/core/grappler/optimizers/meta_optimizer.cc:801] layout failed: Invalid argument: MutableGraphView::SortTopologically error: detected edge(s) creating cycle(s) {'Func/gradient_tape/sequential/module_wrapper/conv_f_f2d/while/sequential/module_wrapper/conv_f_f2d/while_grad/body/_129/input/_377' -> 'gradient_tape/sequential/module_wrapper/conv_f_f2d/while/sequential/module_wrapper/conv_f_f2d/while_grad/body/_129/gradient_tape/sequential/module_wrapper/conv_f_f2d/while/gradients/AddN'}.\n",
            "2021-09-23 07:47:37.404138: I tensorflow/stream_executor/cuda/cuda_dnn.cc:369] Loaded cuDNN version 8005\n",
            "1/1 [==============================] - 14s 14s/step - loss: 0.6041\n",
            "Epoch 2/2\n",
            "1/1 [==============================] - 1s 798ms/step - loss: 0.3599\n",
            "Filename: performance_convff.py\n",
            "\n",
            "Line #    Mem usage    Increment  Occurences   Line Contents\n",
            "============================================================\n",
            "     6    327.5 MiB    327.5 MiB           1   @profile\n",
            "     7                                         def test():\n",
            "     8    327.5 MiB      0.0 MiB           1       batch_size = 64\n",
            "     9    327.5 MiB      0.0 MiB           1       seq_len = 300\n",
            "    10    327.5 MiB      0.0 MiB           1       input_dim = (16, 16, 3)\n",
            "    11    327.5 MiB      0.0 MiB           1       output_dim = 30\n",
            "    12                                         \n",
            "    13    440.4 MiB    112.9 MiB           1       input = np.random.rand(batch_size, seq_len, 16, 16, 3)\n",
            "    14    440.4 MiB      0.0 MiB           1       output = np.random.rand(batch_size, output_dim)\n",
            "    15    862.7 MiB    422.3 MiB           1       model = tf.keras.Sequential()\n",
            "    16    863.9 MiB      1.2 MiB           1       model.add(ConvFF2D(8, (3, 3), input_shape=(seq_len, 16, 16, 3)))\n",
            "    17    864.1 MiB      0.2 MiB           1       model.add(tf.keras.layers.Flatten())\n",
            "    18    864.1 MiB      0.0 MiB           1       model.add(tf.keras.layers.Dense(output_dim))\n",
            "    19    864.8 MiB      0.7 MiB           1       model.compile('SGD', 'mse')\n",
            "    20   2522.5 MiB   1657.7 MiB           1       model.fit(input, output, epochs=2, batch_size=batch_size)\n",
            "\n",
            "\n"
          ]
        }
      ]
    },
    {
      "cell_type": "code",
      "metadata": {
        "colab": {
          "base_uri": "https://localhost:8080/"
        },
        "id": "t818e1eLkH8q",
        "outputId": "9f5de385-3dee-4281-b875-b2bb5a61c896"
      },
      "source": [
        "!python -m memory_profiler performance_convlstm.py"
      ],
      "execution_count": 11,
      "outputs": [
        {
          "output_type": "stream",
          "name": "stdout",
          "text": [
            "2021-09-23 07:48:13.362108: I tensorflow/stream_executor/cuda/cuda_gpu_executor.cc:937] successful NUMA node read from SysFS had negative value (-1), but there must be at least one NUMA node, so returning NUMA node zero\n",
            "2021-09-23 07:48:13.372247: I tensorflow/stream_executor/cuda/cuda_gpu_executor.cc:937] successful NUMA node read from SysFS had negative value (-1), but there must be at least one NUMA node, so returning NUMA node zero\n",
            "2021-09-23 07:48:13.373171: I tensorflow/stream_executor/cuda/cuda_gpu_executor.cc:937] successful NUMA node read from SysFS had negative value (-1), but there must be at least one NUMA node, so returning NUMA node zero\n",
            "2021-09-23 07:48:13.375113: I tensorflow/stream_executor/cuda/cuda_gpu_executor.cc:937] successful NUMA node read from SysFS had negative value (-1), but there must be at least one NUMA node, so returning NUMA node zero\n",
            "2021-09-23 07:48:13.375956: I tensorflow/stream_executor/cuda/cuda_gpu_executor.cc:937] successful NUMA node read from SysFS had negative value (-1), but there must be at least one NUMA node, so returning NUMA node zero\n",
            "2021-09-23 07:48:13.376740: I tensorflow/stream_executor/cuda/cuda_gpu_executor.cc:937] successful NUMA node read from SysFS had negative value (-1), but there must be at least one NUMA node, so returning NUMA node zero\n",
            "2021-09-23 07:48:13.858750: I tensorflow/stream_executor/cuda/cuda_gpu_executor.cc:937] successful NUMA node read from SysFS had negative value (-1), but there must be at least one NUMA node, so returning NUMA node zero\n",
            "2021-09-23 07:48:13.859667: I tensorflow/stream_executor/cuda/cuda_gpu_executor.cc:937] successful NUMA node read from SysFS had negative value (-1), but there must be at least one NUMA node, so returning NUMA node zero\n",
            "2021-09-23 07:48:13.860459: I tensorflow/stream_executor/cuda/cuda_gpu_executor.cc:937] successful NUMA node read from SysFS had negative value (-1), but there must be at least one NUMA node, so returning NUMA node zero\n",
            "2021-09-23 07:48:13.861196: W tensorflow/core/common_runtime/gpu/gpu_bfc_allocator.cc:39] Overriding allow_growth setting because the TF_FORCE_GPU_ALLOW_GROWTH environment variable is set. Original config value was 0.\n",
            "2021-09-23 07:48:13.861285: I tensorflow/core/common_runtime/gpu/gpu_device.cc:1510] Created device /job:localhost/replica:0/task:0/device:GPU:0 with 10819 MB memory:  -> device: 0, name: Tesla K80, pci bus id: 0000:00:04.0, compute capability: 3.7\n",
            "2021-09-23 07:48:15.658405: I tensorflow/compiler/mlir/mlir_graph_optimization_pass.cc:185] None of the MLIR Optimization Passes are enabled (registered 2)\n",
            "Epoch 1/2\n",
            "2021-09-23 07:48:21.348990: E tensorflow/core/grappler/optimizers/meta_optimizer.cc:801] layout failed: Invalid argument: MutableGraphView::SortTopologically error: detected edge(s) creating cycle(s) {'Func/gradient_tape/sequential/conv_lst_m2d/while/sequential/conv_lst_m2d/while_grad/body/_179/input/_517' -> 'gradient_tape/sequential/conv_lst_m2d/while/sequential/conv_lst_m2d/while_grad/body/_179/gradient_tape/sequential/conv_lst_m2d/while/gradients/AddN'}.\n",
            "2021-09-23 07:48:21.770294: I tensorflow/stream_executor/cuda/cuda_dnn.cc:369] Loaded cuDNN version 8005\n",
            "1/1 [==============================] - 8s 8s/step - loss: 0.3492\n",
            "Epoch 2/2\n",
            "1/1 [==============================] - 1s 1s/step - loss: 0.3398\n",
            "Filename: performance_convlstm.py\n",
            "\n",
            "Line #    Mem usage    Increment  Occurences   Line Contents\n",
            "============================================================\n",
            "     5    316.6 MiB    316.6 MiB           1   @profile\n",
            "     6                                         def test():\n",
            "     7    316.6 MiB      0.0 MiB           1       batch_size = 64\n",
            "     8    316.6 MiB      0.0 MiB           1       seq_len = 300\n",
            "     9    316.6 MiB      0.0 MiB           1       input_dim = (16, 16, 3)\n",
            "    10    316.6 MiB      0.0 MiB           1       output_dim = 30\n",
            "    11                                         \n",
            "    12    429.4 MiB    112.8 MiB           1       input = np.random.rand(batch_size, seq_len, 16, 16, 3)\n",
            "    13    429.4 MiB      0.0 MiB           1       output = np.random.rand(batch_size, output_dim)\n",
            "    14    863.6 MiB    434.2 MiB           1       model = tf.keras.Sequential()\n",
            "    15    872.0 MiB      8.5 MiB           1       model.add(tf.keras.layers.ConvLSTM2D(8, (3, 3), input_shape=(seq_len, 16, 16, 3)))\n",
            "    16    872.2 MiB      0.2 MiB           1       model.add(tf.keras.layers.Flatten())\n",
            "    17    872.2 MiB      0.0 MiB           1       model.add(tf.keras.layers.Dense(output_dim))\n",
            "    18    872.5 MiB      0.2 MiB           1       model.compile('SGD', 'mse')\n",
            "    19   2592.0 MiB   1719.5 MiB           1       model.fit(input, output, epochs=2, batch_size=batch_size)\n",
            "\n",
            "\n"
          ]
        }
      ]
    }
  ]
}