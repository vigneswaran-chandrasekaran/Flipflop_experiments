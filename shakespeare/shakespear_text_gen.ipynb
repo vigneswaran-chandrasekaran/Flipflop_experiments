{
  "cells": [
    {
      "cell_type": "markdown",
      "metadata": {
        "id": "e44g5kTMZqgf"
      },
      "source": [
        "## Shakespear-like poem generation on character level\n",
        "\n",
        "##### Flipflop vs LSTM comparison\n",
        "\n",
        "\n",
        "Code taken from: \n",
        "[Tensorflow documentation on RNN](https://www.tensorflow.org/tutorials/text/text_generation)\n",
        "\n",
        "[![Open In Colab](https://colab.research.google.com/assets/colab-badge.svg)](https://drive.google.com/file/d/13YaGMPsmJ4MNgE3cKcUjOws31PRCC9Km/view?usp=sharing)"
      ]
    },
    {
      "cell_type": "markdown",
      "metadata": {
        "id": "HcygKkEVZBaa"
      },
      "source": [
        "Some samples of data\n",
        "<pre>\n",
        "QUEENE:\n",
        "I had thought thou hadst a Roman; for the oracle,\n",
        "Thus by All bids the man against the word,\n",
        "Which are so weak of care, by old care done;\n",
        "Your children were in your holy love,\n",
        "And the precipitation through the bleeding throne.\n",
        "\n",
        "BISHOP OF ELY:\n",
        "Marry, and will, my lord, to weep in such a one were prettiest;\n",
        "Yet now I was adopted heir\n",
        "Of the world's lamentable day,\n",
        "To watch the next way with his father with his face?\n",
        "\n",
        "ESCALUS:\n",
        "The cause why then we are all resolved more sons.\n",
        "</pre>"
      ]
    },
    {
      "cell_type": "code",
      "metadata": {
        "id": "yG_n40gFzf9s"
      },
      "source": [
        "from tensorflow import keras\n",
        "from tensorflow.keras import backend as K\n",
        "from tensorflow.keras.layers import Dense, RNN\n",
        "from tensorflow.keras.activations import tanh\n",
        "from tensorflow.keras.layers.experimental import preprocessing\n",
        "import tensorflow as tf\n",
        "import numpy as np\n",
        "import os\n",
        "import time"
      ],
      "execution_count": null,
      "outputs": []
    },
    {
      "cell_type": "markdown",
      "metadata": {
        "id": "EHDoRoc5PKWz"
      },
      "source": [
        "##### Download the Shakespeare dataset\n"
      ]
    },
    {
      "cell_type": "code",
      "metadata": {
        "id": "pD_55cOxLkAb"
      },
      "source": [
        "path_to_file = tf.keras.utils.get_file('shakespeare.txt', 'https://storage.googleapis.com/download.tensorflow.org/data/shakespeare.txt')"
      ],
      "execution_count": null,
      "outputs": []
    },
    {
      "cell_type": "code",
      "metadata": {
        "id": "aavnuByVymwK",
        "colab": {
          "base_uri": "https://localhost:8080/"
        },
        "outputId": "d449ad9b-277a-4fd7-f446-6b687bc40e50"
      },
      "source": [
        "# Read, then decode for py2 compat.\n",
        "text = open(path_to_file, 'rb').read().decode(encoding='utf-8')\n",
        "# length of text is the number of characters in it\n",
        "print(f'Length of text: {len(text)} characters')"
      ],
      "execution_count": null,
      "outputs": [
        {
          "output_type": "stream",
          "text": [
            "Length of text: 1115394 characters\n"
          ],
          "name": "stdout"
        }
      ]
    },
    {
      "cell_type": "code",
      "metadata": {
        "id": "IlCgQBRVymwR"
      },
      "source": [
        "# The unique characters in the file\n",
        "vocab = sorted(set(text))"
      ],
      "execution_count": null,
      "outputs": []
    },
    {
      "cell_type": "code",
      "metadata": {
        "id": "a86OoYtO01go"
      },
      "source": [
        "example_texts = ['abcdefg', 'xyz']\n",
        "chars = tf.strings.unicode_split(example_texts, input_encoding='UTF-8')"
      ],
      "execution_count": null,
      "outputs": []
    },
    {
      "cell_type": "markdown",
      "metadata": {
        "id": "1s4f1q3iqY8f"
      },
      "source": [
        "Now create the `preprocessing.StringLookup` layer:"
      ]
    },
    {
      "cell_type": "code",
      "metadata": {
        "id": "6GMlCe3qzaL9"
      },
      "source": [
        "ids_from_chars = preprocessing.StringLookup(\n",
        "    vocabulary=list(vocab), mask_token=None)"
      ],
      "execution_count": null,
      "outputs": []
    },
    {
      "cell_type": "markdown",
      "metadata": {
        "id": "ZmX_jbgQqfOi"
      },
      "source": [
        "It converts form tokens to character IDs:"
      ]
    },
    {
      "cell_type": "code",
      "metadata": {
        "id": "WLv5Q_2TC2pc"
      },
      "source": [
        "ids = ids_from_chars(chars)"
      ],
      "execution_count": null,
      "outputs": []
    },
    {
      "cell_type": "code",
      "metadata": {
        "id": "Wd2m3mqkDjRj"
      },
      "source": [
        "chars_from_ids = tf.keras.layers.experimental.preprocessing.StringLookup(\n",
        "    vocabulary=ids_from_chars.get_vocabulary(), invert=True, mask_token=None)"
      ],
      "execution_count": null,
      "outputs": []
    },
    {
      "cell_type": "markdown",
      "metadata": {
        "id": "pqTDDxS-s-H8"
      },
      "source": [
        "This layer recovers the characters from the vectors of IDs, and returns them as a `tf.RaggedTensor` of characters:"
      ]
    },
    {
      "cell_type": "code",
      "metadata": {
        "id": "c2GCh0ySD44s"
      },
      "source": [
        "chars = chars_from_ids(ids)"
      ],
      "execution_count": null,
      "outputs": []
    },
    {
      "cell_type": "markdown",
      "metadata": {
        "id": "-FeW5gqutT3o"
      },
      "source": [
        "You can `tf.strings.reduce_join` to join the characters back into strings. "
      ]
    },
    {
      "cell_type": "code",
      "metadata": {
        "id": "zxYI-PeltqKP",
        "colab": {
          "base_uri": "https://localhost:8080/"
        },
        "outputId": "2ef4fbd0-de4d-464a-9b19-62c8485768ea"
      },
      "source": [
        "tf.strings.reduce_join(chars, axis=-1).numpy()"
      ],
      "execution_count": null,
      "outputs": [
        {
          "output_type": "execute_result",
          "data": {
            "text/plain": [
              "array([b'abcdefg', b'xyz'], dtype=object)"
            ]
          },
          "metadata": {
            "tags": []
          },
          "execution_count": 36
        }
      ]
    },
    {
      "cell_type": "code",
      "metadata": {
        "id": "w5apvBDn9Ind"
      },
      "source": [
        "def text_from_ids(ids):\n",
        "  return tf.strings.reduce_join(chars_from_ids(ids), axis=-1)"
      ],
      "execution_count": null,
      "outputs": []
    },
    {
      "cell_type": "code",
      "metadata": {
        "id": "UopbsKi88tm5"
      },
      "source": [
        "all_ids = ids_from_chars(tf.strings.unicode_split(text, 'UTF-8'))"
      ],
      "execution_count": null,
      "outputs": []
    },
    {
      "cell_type": "code",
      "metadata": {
        "id": "qmxrYDCTy-eL"
      },
      "source": [
        "ids_dataset = tf.data.Dataset.from_tensor_slices(all_ids)"
      ],
      "execution_count": null,
      "outputs": []
    },
    {
      "cell_type": "code",
      "metadata": {
        "id": "cjH5v45-yqqH",
        "colab": {
          "base_uri": "https://localhost:8080/"
        },
        "outputId": "8e2e230b-e2c3-419a-e4ce-b3ef32f61cc2"
      },
      "source": [
        "for ids in ids_dataset.take(10):\n",
        "    print(chars_from_ids(ids).numpy().decode('utf-8'))"
      ],
      "execution_count": null,
      "outputs": [
        {
          "output_type": "stream",
          "text": [
            "F\n",
            "i\n",
            "r\n",
            "s\n",
            "t\n",
            " \n",
            "C\n",
            "i\n",
            "t\n",
            "i\n"
          ],
          "name": "stdout"
        }
      ]
    },
    {
      "cell_type": "code",
      "metadata": {
        "id": "C-G2oaTxy6km"
      },
      "source": [
        "seq_length = 100\n",
        "examples_per_epoch = len(text)//(seq_length+1)"
      ],
      "execution_count": null,
      "outputs": []
    },
    {
      "cell_type": "markdown",
      "metadata": {
        "id": "-ZSYAcQV8OGP"
      },
      "source": [
        "The `batch` method lets you easily convert these individual characters to sequences of the desired size."
      ]
    },
    {
      "cell_type": "code",
      "metadata": {
        "id": "BpdjRO2CzOfZ",
        "colab": {
          "base_uri": "https://localhost:8080/"
        },
        "outputId": "8d3d6b03-131c-4742-d02d-d8dcc9e24256"
      },
      "source": [
        "sequences = ids_dataset.batch(seq_length+1, drop_remainder=True)\n",
        "\n",
        "for seq in sequences.take(1):\n",
        "  print(chars_from_ids(seq))"
      ],
      "execution_count": null,
      "outputs": [
        {
          "output_type": "stream",
          "text": [
            "tf.Tensor(\n",
            "[b'F' b'i' b'r' b's' b't' b' ' b'C' b'i' b't' b'i' b'z' b'e' b'n' b':'\n",
            " b'\\n' b'B' b'e' b'f' b'o' b'r' b'e' b' ' b'w' b'e' b' ' b'p' b'r' b'o'\n",
            " b'c' b'e' b'e' b'd' b' ' b'a' b'n' b'y' b' ' b'f' b'u' b'r' b't' b'h'\n",
            " b'e' b'r' b',' b' ' b'h' b'e' b'a' b'r' b' ' b'm' b'e' b' ' b's' b'p'\n",
            " b'e' b'a' b'k' b'.' b'\\n' b'\\n' b'A' b'l' b'l' b':' b'\\n' b'S' b'p' b'e'\n",
            " b'a' b'k' b',' b' ' b's' b'p' b'e' b'a' b'k' b'.' b'\\n' b'\\n' b'F' b'i'\n",
            " b'r' b's' b't' b' ' b'C' b'i' b't' b'i' b'z' b'e' b'n' b':' b'\\n' b'Y'\n",
            " b'o' b'u' b' '], shape=(101,), dtype=string)\n"
          ],
          "name": "stdout"
        }
      ]
    },
    {
      "cell_type": "markdown",
      "metadata": {
        "id": "5PHW902-4oZt"
      },
      "source": [
        "It's easier to see what this is doing if you join the tokens back into strings:"
      ]
    },
    {
      "cell_type": "code",
      "metadata": {
        "id": "QO32cMWu4a06",
        "colab": {
          "base_uri": "https://localhost:8080/"
        },
        "outputId": "1e8c218a-09be-4e98-bed8-d82a7a61d755"
      },
      "source": [
        "for seq in sequences.take(5):\n",
        "  print(text_from_ids(seq).numpy())"
      ],
      "execution_count": null,
      "outputs": [
        {
          "output_type": "stream",
          "text": [
            "b'First Citizen:\\nBefore we proceed any further, hear me speak.\\n\\nAll:\\nSpeak, speak.\\n\\nFirst Citizen:\\nYou '\n",
            "b'are all resolved rather to die than to famish?\\n\\nAll:\\nResolved. resolved.\\n\\nFirst Citizen:\\nFirst, you k'\n",
            "b\"now Caius Marcius is chief enemy to the people.\\n\\nAll:\\nWe know't, we know't.\\n\\nFirst Citizen:\\nLet us ki\"\n",
            "b\"ll him, and we'll have corn at our own price.\\nIs't a verdict?\\n\\nAll:\\nNo more talking on't; let it be d\"\n",
            "b'one: away, away!\\n\\nSecond Citizen:\\nOne word, good citizens.\\n\\nFirst Citizen:\\nWe are accounted poor citi'\n"
          ],
          "name": "stdout"
        }
      ]
    },
    {
      "cell_type": "code",
      "metadata": {
        "id": "9NGu-FkO_kYU"
      },
      "source": [
        "def split_input_target(sequence):\n",
        "    input_text = sequence[:-1]\n",
        "    target_text = sequence[1:]\n",
        "    return input_text, target_text"
      ],
      "execution_count": null,
      "outputs": []
    },
    {
      "cell_type": "code",
      "metadata": {
        "id": "WxbDTJTw5u_P",
        "colab": {
          "base_uri": "https://localhost:8080/"
        },
        "outputId": "1fb8afd2-744d-4b48-da3f-0fe594d22801"
      },
      "source": [
        "split_input_target(list(\"Tensorflow\"))"
      ],
      "execution_count": null,
      "outputs": [
        {
          "output_type": "execute_result",
          "data": {
            "text/plain": [
              "(['T', 'e', 'n', 's', 'o', 'r', 'f', 'l', 'o'],\n",
              " ['e', 'n', 's', 'o', 'r', 'f', 'l', 'o', 'w'])"
            ]
          },
          "metadata": {
            "tags": []
          },
          "execution_count": 45
        }
      ]
    },
    {
      "cell_type": "code",
      "metadata": {
        "id": "B9iKPXkw5xwa"
      },
      "source": [
        "dataset = sequences.map(split_input_target)"
      ],
      "execution_count": null,
      "outputs": []
    },
    {
      "cell_type": "code",
      "metadata": {
        "id": "GNbw-iR0ymwj",
        "colab": {
          "base_uri": "https://localhost:8080/"
        },
        "outputId": "7fc18eed-8a9b-42e8-92f3-e8544b6297b3"
      },
      "source": [
        "for input_example, target_example in dataset.take(1):\n",
        "    print(\"Input :\", text_from_ids(input_example).numpy())\n",
        "    print(\"Target:\", text_from_ids(target_example).numpy())"
      ],
      "execution_count": null,
      "outputs": [
        {
          "output_type": "stream",
          "text": [
            "Input : b'First Citizen:\\nBefore we proceed any further, hear me speak.\\n\\nAll:\\nSpeak, speak.\\n\\nFirst Citizen:\\nYou'\n",
            "Target: b'irst Citizen:\\nBefore we proceed any further, hear me speak.\\n\\nAll:\\nSpeak, speak.\\n\\nFirst Citizen:\\nYou '\n"
          ],
          "name": "stdout"
        }
      ]
    },
    {
      "cell_type": "code",
      "metadata": {
        "id": "p2pGotuNzf-S",
        "colab": {
          "base_uri": "https://localhost:8080/"
        },
        "outputId": "1743e5f8-3f04-40ab-d761-46803ec1a8eb"
      },
      "source": [
        "# Batch size\n",
        "BATCH_SIZE = 512\n",
        "\n",
        "# Buffer size to shuffle the dataset\n",
        "# (TF data is designed to work with possibly infinite sequences,\n",
        "# so it doesn't attempt to shuffle the entire sequence in memory. Instead,\n",
        "# it maintains a buffer in which it shuffles elements).\n",
        "BUFFER_SIZE = 10000\n",
        "\n",
        "dataset = (\n",
        "    dataset\n",
        "    .shuffle(BUFFER_SIZE)\n",
        "    .batch(BATCH_SIZE, drop_remainder=True)\n",
        "    .prefetch(tf.data.experimental.AUTOTUNE))\n",
        "\n",
        "dataset"
      ],
      "execution_count": null,
      "outputs": [
        {
          "output_type": "execute_result",
          "data": {
            "text/plain": [
              "<PrefetchDataset shapes: ((512, 100), (512, 100)), types: (tf.int64, tf.int64)>"
            ]
          },
          "metadata": {
            "tags": []
          },
          "execution_count": 48
        }
      ]
    },
    {
      "cell_type": "markdown",
      "metadata": {
        "id": "r6oUuElIMgVx"
      },
      "source": [
        "#### Build The Model"
      ]
    },
    {
      "cell_type": "code",
      "metadata": {
        "colab": {
          "base_uri": "https://localhost:8080/"
        },
        "id": "8B9-8DhHytYg",
        "outputId": "3e5fc770-3129-48bf-a47c-7869de44312e"
      },
      "source": [
        "resolver = tf.distribute.cluster_resolver.TPUClusterResolver(tpu='')\n",
        "tf.config.experimental_connect_to_cluster(resolver)\n",
        "# This is the TPU initialization code that has to be at the beginning.\n",
        "tf.tpu.experimental.initialize_tpu_system(resolver)\n",
        "print(\"All devices: \", tf.config.list_logical_devices('TPU'))\n",
        "strategy = tf.distribute.TPUStrategy(resolver)"
      ],
      "execution_count": null,
      "outputs": [
        {
          "output_type": "stream",
          "text": [
            "WARNING:tensorflow:TPU system grpc://10.117.135.194:8470 has already been initialized. Reinitializing the TPU can cause previously created variables on TPU to be lost.\n"
          ],
          "name": "stdout"
        },
        {
          "output_type": "stream",
          "text": [
            "WARNING:tensorflow:TPU system grpc://10.117.135.194:8470 has already been initialized. Reinitializing the TPU can cause previously created variables on TPU to be lost.\n"
          ],
          "name": "stderr"
        },
        {
          "output_type": "stream",
          "text": [
            "INFO:tensorflow:Initializing the TPU system: grpc://10.117.135.194:8470\n"
          ],
          "name": "stdout"
        },
        {
          "output_type": "stream",
          "text": [
            "INFO:tensorflow:Initializing the TPU system: grpc://10.117.135.194:8470\n"
          ],
          "name": "stderr"
        },
        {
          "output_type": "stream",
          "text": [
            "INFO:tensorflow:Clearing out eager caches\n"
          ],
          "name": "stdout"
        },
        {
          "output_type": "stream",
          "text": [
            "INFO:tensorflow:Clearing out eager caches\n"
          ],
          "name": "stderr"
        },
        {
          "output_type": "stream",
          "text": [
            "INFO:tensorflow:Finished initializing TPU system.\n"
          ],
          "name": "stdout"
        },
        {
          "output_type": "stream",
          "text": [
            "INFO:tensorflow:Finished initializing TPU system.\n"
          ],
          "name": "stderr"
        },
        {
          "output_type": "stream",
          "text": [
            "All devices:  [LogicalDevice(name='/job:worker/replica:0/task:0/device:TPU:7', device_type='TPU'), LogicalDevice(name='/job:worker/replica:0/task:0/device:TPU:6', device_type='TPU'), LogicalDevice(name='/job:worker/replica:0/task:0/device:TPU:5', device_type='TPU'), LogicalDevice(name='/job:worker/replica:0/task:0/device:TPU:4', device_type='TPU'), LogicalDevice(name='/job:worker/replica:0/task:0/device:TPU:3', device_type='TPU'), LogicalDevice(name='/job:worker/replica:0/task:0/device:TPU:0', device_type='TPU'), LogicalDevice(name='/job:worker/replica:0/task:0/device:TPU:1', device_type='TPU'), LogicalDevice(name='/job:worker/replica:0/task:0/device:TPU:2', device_type='TPU')]\n",
            "INFO:tensorflow:Found TPU system:\n"
          ],
          "name": "stdout"
        },
        {
          "output_type": "stream",
          "text": [
            "INFO:tensorflow:Found TPU system:\n"
          ],
          "name": "stderr"
        },
        {
          "output_type": "stream",
          "text": [
            "INFO:tensorflow:*** Num TPU Cores: 8\n"
          ],
          "name": "stdout"
        },
        {
          "output_type": "stream",
          "text": [
            "INFO:tensorflow:*** Num TPU Cores: 8\n"
          ],
          "name": "stderr"
        },
        {
          "output_type": "stream",
          "text": [
            "INFO:tensorflow:*** Num TPU Workers: 1\n"
          ],
          "name": "stdout"
        },
        {
          "output_type": "stream",
          "text": [
            "INFO:tensorflow:*** Num TPU Workers: 1\n"
          ],
          "name": "stderr"
        },
        {
          "output_type": "stream",
          "text": [
            "INFO:tensorflow:*** Num TPU Cores Per Worker: 8\n"
          ],
          "name": "stdout"
        },
        {
          "output_type": "stream",
          "text": [
            "INFO:tensorflow:*** Num TPU Cores Per Worker: 8\n"
          ],
          "name": "stderr"
        },
        {
          "output_type": "stream",
          "text": [
            "INFO:tensorflow:*** Available Device: _DeviceAttributes(/job:localhost/replica:0/task:0/device:CPU:0, CPU, 0, 0)\n"
          ],
          "name": "stdout"
        },
        {
          "output_type": "stream",
          "text": [
            "INFO:tensorflow:*** Available Device: _DeviceAttributes(/job:localhost/replica:0/task:0/device:CPU:0, CPU, 0, 0)\n"
          ],
          "name": "stderr"
        },
        {
          "output_type": "stream",
          "text": [
            "INFO:tensorflow:*** Available Device: _DeviceAttributes(/job:worker/replica:0/task:0/device:CPU:0, CPU, 0, 0)\n"
          ],
          "name": "stdout"
        },
        {
          "output_type": "stream",
          "text": [
            "INFO:tensorflow:*** Available Device: _DeviceAttributes(/job:worker/replica:0/task:0/device:CPU:0, CPU, 0, 0)\n"
          ],
          "name": "stderr"
        },
        {
          "output_type": "stream",
          "text": [
            "INFO:tensorflow:*** Available Device: _DeviceAttributes(/job:worker/replica:0/task:0/device:TPU:0, TPU, 0, 0)\n"
          ],
          "name": "stdout"
        },
        {
          "output_type": "stream",
          "text": [
            "INFO:tensorflow:*** Available Device: _DeviceAttributes(/job:worker/replica:0/task:0/device:TPU:0, TPU, 0, 0)\n"
          ],
          "name": "stderr"
        },
        {
          "output_type": "stream",
          "text": [
            "INFO:tensorflow:*** Available Device: _DeviceAttributes(/job:worker/replica:0/task:0/device:TPU:1, TPU, 0, 0)\n"
          ],
          "name": "stdout"
        },
        {
          "output_type": "stream",
          "text": [
            "INFO:tensorflow:*** Available Device: _DeviceAttributes(/job:worker/replica:0/task:0/device:TPU:1, TPU, 0, 0)\n"
          ],
          "name": "stderr"
        },
        {
          "output_type": "stream",
          "text": [
            "INFO:tensorflow:*** Available Device: _DeviceAttributes(/job:worker/replica:0/task:0/device:TPU:2, TPU, 0, 0)\n"
          ],
          "name": "stdout"
        },
        {
          "output_type": "stream",
          "text": [
            "INFO:tensorflow:*** Available Device: _DeviceAttributes(/job:worker/replica:0/task:0/device:TPU:2, TPU, 0, 0)\n"
          ],
          "name": "stderr"
        },
        {
          "output_type": "stream",
          "text": [
            "INFO:tensorflow:*** Available Device: _DeviceAttributes(/job:worker/replica:0/task:0/device:TPU:3, TPU, 0, 0)\n"
          ],
          "name": "stdout"
        },
        {
          "output_type": "stream",
          "text": [
            "INFO:tensorflow:*** Available Device: _DeviceAttributes(/job:worker/replica:0/task:0/device:TPU:3, TPU, 0, 0)\n"
          ],
          "name": "stderr"
        },
        {
          "output_type": "stream",
          "text": [
            "INFO:tensorflow:*** Available Device: _DeviceAttributes(/job:worker/replica:0/task:0/device:TPU:4, TPU, 0, 0)\n"
          ],
          "name": "stdout"
        },
        {
          "output_type": "stream",
          "text": [
            "INFO:tensorflow:*** Available Device: _DeviceAttributes(/job:worker/replica:0/task:0/device:TPU:4, TPU, 0, 0)\n"
          ],
          "name": "stderr"
        },
        {
          "output_type": "stream",
          "text": [
            "INFO:tensorflow:*** Available Device: _DeviceAttributes(/job:worker/replica:0/task:0/device:TPU:5, TPU, 0, 0)\n"
          ],
          "name": "stdout"
        },
        {
          "output_type": "stream",
          "text": [
            "INFO:tensorflow:*** Available Device: _DeviceAttributes(/job:worker/replica:0/task:0/device:TPU:5, TPU, 0, 0)\n"
          ],
          "name": "stderr"
        },
        {
          "output_type": "stream",
          "text": [
            "INFO:tensorflow:*** Available Device: _DeviceAttributes(/job:worker/replica:0/task:0/device:TPU:6, TPU, 0, 0)\n"
          ],
          "name": "stdout"
        },
        {
          "output_type": "stream",
          "text": [
            "INFO:tensorflow:*** Available Device: _DeviceAttributes(/job:worker/replica:0/task:0/device:TPU:6, TPU, 0, 0)\n"
          ],
          "name": "stderr"
        },
        {
          "output_type": "stream",
          "text": [
            "INFO:tensorflow:*** Available Device: _DeviceAttributes(/job:worker/replica:0/task:0/device:TPU:7, TPU, 0, 0)\n"
          ],
          "name": "stdout"
        },
        {
          "output_type": "stream",
          "text": [
            "INFO:tensorflow:*** Available Device: _DeviceAttributes(/job:worker/replica:0/task:0/device:TPU:7, TPU, 0, 0)\n"
          ],
          "name": "stderr"
        },
        {
          "output_type": "stream",
          "text": [
            "INFO:tensorflow:*** Available Device: _DeviceAttributes(/job:worker/replica:0/task:0/device:TPU_SYSTEM:0, TPU_SYSTEM, 0, 0)\n"
          ],
          "name": "stdout"
        },
        {
          "output_type": "stream",
          "text": [
            "INFO:tensorflow:*** Available Device: _DeviceAttributes(/job:worker/replica:0/task:0/device:TPU_SYSTEM:0, TPU_SYSTEM, 0, 0)\n"
          ],
          "name": "stderr"
        },
        {
          "output_type": "stream",
          "text": [
            "INFO:tensorflow:*** Available Device: _DeviceAttributes(/job:worker/replica:0/task:0/device:XLA_CPU:0, XLA_CPU, 0, 0)\n"
          ],
          "name": "stdout"
        },
        {
          "output_type": "stream",
          "text": [
            "INFO:tensorflow:*** Available Device: _DeviceAttributes(/job:worker/replica:0/task:0/device:XLA_CPU:0, XLA_CPU, 0, 0)\n"
          ],
          "name": "stderr"
        }
      ]
    },
    {
      "cell_type": "code",
      "metadata": {
        "id": "zHT8cLh7EAsg"
      },
      "source": [
        "# Length of the vocabulary in chars\n",
        "vocab_size = len(vocab)\n",
        "\n",
        "# The embedding dimension\n",
        "embedding_dim = 256\n",
        "\n",
        "# Number of RNN units\n",
        "rnn_units = 1024"
      ],
      "execution_count": null,
      "outputs": []
    },
    {
      "cell_type": "code",
      "metadata": {
        "id": "wj8HQ2w8z4iO"
      },
      "source": [
        "class LSTM_model(tf.keras.Model):\n",
        "  def __init__(self, vocab_size, embedding_dim, rnn_units):\n",
        "    super().__init__(self)\n",
        "    self.embedding = tf.keras.layers.Embedding(vocab_size, embedding_dim)\n",
        "    self.rnn = tf.keras.layers.LSTM(rnn_units,\n",
        "                                   return_sequences=True,\n",
        "                                   return_state=True)\n",
        "    self.dense = tf.keras.layers.Dense(vocab_size)\n",
        "\n",
        "  def call(self, inputs, states=None, return_state=False, training=False):\n",
        "    x = inputs\n",
        "    x = self.embedding(x, training=training)\n",
        "    if states is None:\n",
        "      states = self.rnn.get_initial_state(x)\n",
        "    x, h, c = self.rnn(x, initial_state=states, training=training)\n",
        "    x = self.dense(x, training=training)\n",
        "\n",
        "    if return_state:\n",
        "      return x, [h,c]\n",
        "    else:\n",
        "      return x"
      ],
      "execution_count": null,
      "outputs": []
    },
    {
      "cell_type": "markdown",
      "metadata": {
        "id": "IkopmlAu0Ftd"
      },
      "source": [
        "## Train the model"
      ]
    },
    {
      "cell_type": "code",
      "metadata": {
        "colab": {
          "base_uri": "https://localhost:8080/"
        },
        "id": "NDZ4DMqr0BA1",
        "outputId": "64f3637e-766b-45ce-fe50-04d88695b302"
      },
      "source": [
        "loss = tf.losses.SparseCategoricalCrossentropy(from_logits=True)\n",
        "EPOCHS = 100\n",
        "\n",
        "with strategy.scope():\n",
        "  lstm_model = LSTM_model(\n",
        "    vocab_size=len(ids_from_chars.get_vocabulary()),\n",
        "    embedding_dim=embedding_dim,\n",
        "    rnn_units=rnn_units)\n",
        "  for input_example_batch, target_example_batch in dataset.take(1):\n",
        "    example_batch_predictions = lstm_model(input_example_batch)\n",
        "    print(example_batch_predictions.shape, \"# (batch_size, sequence_length, vocab_size)\")\n",
        "  adam = tf.keras.optimizers.Adam(learning_rate=0.01)\n",
        "  lstm_model.compile(optimizer=adam, loss=loss)\n",
        "  lstm_history = lstm_model.fit(dataset, epochs=EPOCHS)"
      ],
      "execution_count": null,
      "outputs": [
        {
          "output_type": "stream",
          "text": [
            "(512, 100, 66) # (batch_size, sequence_length, vocab_size)\n",
            "Epoch 1/100\n",
            "21/21 [==============================] - 6s 53ms/step - loss: 4.8774\n",
            "Epoch 2/100\n",
            "21/21 [==============================] - 2s 53ms/step - loss: 3.4139\n",
            "Epoch 3/100\n",
            "21/21 [==============================] - 2s 52ms/step - loss: 2.9872\n",
            "Epoch 4/100\n",
            "21/21 [==============================] - 2s 52ms/step - loss: 2.6231\n",
            "Epoch 5/100\n",
            "21/21 [==============================] - 2s 52ms/step - loss: 2.4268\n",
            "Epoch 6/100\n",
            "21/21 [==============================] - 2s 52ms/step - loss: 2.3081\n",
            "Epoch 7/100\n",
            "21/21 [==============================] - 2s 53ms/step - loss: 2.2244\n",
            "Epoch 8/100\n",
            "21/21 [==============================] - 2s 52ms/step - loss: 2.1526\n",
            "Epoch 9/100\n",
            "21/21 [==============================] - 2s 53ms/step - loss: 2.0866\n",
            "Epoch 10/100\n",
            "21/21 [==============================] - 2s 53ms/step - loss: 2.0286\n",
            "Epoch 11/100\n",
            "21/21 [==============================] - 2s 52ms/step - loss: 1.9783\n",
            "Epoch 12/100\n",
            "21/21 [==============================] - 2s 52ms/step - loss: 1.9402\n",
            "Epoch 13/100\n",
            "21/21 [==============================] - 2s 52ms/step - loss: 1.8988\n",
            "Epoch 14/100\n",
            "21/21 [==============================] - 2s 52ms/step - loss: 1.8720\n",
            "Epoch 15/100\n",
            "21/21 [==============================] - 2s 53ms/step - loss: 1.8262\n",
            "Epoch 16/100\n",
            "21/21 [==============================] - 2s 53ms/step - loss: 1.7960\n",
            "Epoch 17/100\n",
            "21/21 [==============================] - 2s 52ms/step - loss: 1.7636\n",
            "Epoch 18/100\n",
            "21/21 [==============================] - 2s 52ms/step - loss: 1.7392\n",
            "Epoch 19/100\n",
            "21/21 [==============================] - 2s 52ms/step - loss: 1.7182\n",
            "Epoch 20/100\n",
            "21/21 [==============================] - 2s 52ms/step - loss: 1.6978\n",
            "Epoch 21/100\n",
            "21/21 [==============================] - 2s 52ms/step - loss: 1.6758\n",
            "Epoch 22/100\n",
            "21/21 [==============================] - 2s 53ms/step - loss: 1.6579\n",
            "Epoch 23/100\n",
            "21/21 [==============================] - 2s 52ms/step - loss: 1.6446\n",
            "Epoch 24/100\n",
            "21/21 [==============================] - 2s 53ms/step - loss: 1.6244\n",
            "Epoch 25/100\n",
            "21/21 [==============================] - 2s 53ms/step - loss: 1.6097\n",
            "Epoch 26/100\n",
            "21/21 [==============================] - 2s 52ms/step - loss: 1.5938\n",
            "Epoch 27/100\n",
            "21/21 [==============================] - 2s 52ms/step - loss: 1.5822\n",
            "Epoch 28/100\n",
            "21/21 [==============================] - 2s 52ms/step - loss: 1.5709\n",
            "Epoch 29/100\n",
            "21/21 [==============================] - 2s 53ms/step - loss: 1.5605\n",
            "Epoch 30/100\n",
            "21/21 [==============================] - 2s 53ms/step - loss: 1.5518\n",
            "Epoch 31/100\n",
            "21/21 [==============================] - 2s 52ms/step - loss: 1.5387\n",
            "Epoch 32/100\n",
            "21/21 [==============================] - 2s 52ms/step - loss: 1.5288\n",
            "Epoch 33/100\n",
            "21/21 [==============================] - 2s 52ms/step - loss: 1.5195\n",
            "Epoch 34/100\n",
            "21/21 [==============================] - 2s 52ms/step - loss: 1.5134\n",
            "Epoch 35/100\n",
            "21/21 [==============================] - 2s 54ms/step - loss: 1.5062\n",
            "Epoch 36/100\n",
            "21/21 [==============================] - 2s 52ms/step - loss: 1.4951\n",
            "Epoch 37/100\n",
            "21/21 [==============================] - 2s 53ms/step - loss: 1.4903\n",
            "Epoch 38/100\n",
            "21/21 [==============================] - 2s 53ms/step - loss: 1.4809\n",
            "Epoch 39/100\n",
            "21/21 [==============================] - 2s 52ms/step - loss: 1.4761\n",
            "Epoch 40/100\n",
            "21/21 [==============================] - 2s 53ms/step - loss: 1.4695\n",
            "Epoch 41/100\n",
            "21/21 [==============================] - 2s 52ms/step - loss: 1.4630\n",
            "Epoch 42/100\n",
            "21/21 [==============================] - 2s 53ms/step - loss: 1.4520\n",
            "Epoch 43/100\n",
            "21/21 [==============================] - 2s 52ms/step - loss: 1.4500\n",
            "Epoch 44/100\n",
            "21/21 [==============================] - 2s 52ms/step - loss: 1.4420\n",
            "Epoch 45/100\n",
            "21/21 [==============================] - 2s 52ms/step - loss: 1.4393\n",
            "Epoch 46/100\n",
            "21/21 [==============================] - 2s 52ms/step - loss: 1.4363\n",
            "Epoch 47/100\n",
            "21/21 [==============================] - 2s 53ms/step - loss: 1.4276\n",
            "Epoch 48/100\n",
            "21/21 [==============================] - 2s 53ms/step - loss: 1.4234\n",
            "Epoch 49/100\n",
            "21/21 [==============================] - 2s 52ms/step - loss: 1.4165\n",
            "Epoch 50/100\n",
            "21/21 [==============================] - 2s 52ms/step - loss: 1.4159\n",
            "Epoch 51/100\n",
            "21/21 [==============================] - 2s 53ms/step - loss: 1.4083\n",
            "Epoch 52/100\n",
            "21/21 [==============================] - 2s 54ms/step - loss: 1.4025\n",
            "Epoch 53/100\n",
            "21/21 [==============================] - 2s 53ms/step - loss: 1.4022\n",
            "Epoch 54/100\n",
            "21/21 [==============================] - 2s 53ms/step - loss: 1.3981\n",
            "Epoch 55/100\n",
            "21/21 [==============================] - 2s 52ms/step - loss: 1.3965\n",
            "Epoch 56/100\n",
            "21/21 [==============================] - 2s 52ms/step - loss: 1.3857\n",
            "Epoch 57/100\n",
            "21/21 [==============================] - 2s 52ms/step - loss: 1.3848\n",
            "Epoch 58/100\n",
            "21/21 [==============================] - 2s 52ms/step - loss: 1.3817\n",
            "Epoch 59/100\n",
            "21/21 [==============================] - 2s 53ms/step - loss: 1.3774\n",
            "Epoch 60/100\n",
            "21/21 [==============================] - 2s 53ms/step - loss: 1.3726\n",
            "Epoch 61/100\n",
            "21/21 [==============================] - 2s 52ms/step - loss: 1.3658\n",
            "Epoch 62/100\n",
            "21/21 [==============================] - 2s 53ms/step - loss: 1.3656\n",
            "Epoch 63/100\n",
            "21/21 [==============================] - 2s 52ms/step - loss: 1.3615\n",
            "Epoch 64/100\n",
            "21/21 [==============================] - 2s 52ms/step - loss: 1.3533\n",
            "Epoch 65/100\n",
            "21/21 [==============================] - 2s 52ms/step - loss: 1.3530\n",
            "Epoch 66/100\n",
            "21/21 [==============================] - 2s 52ms/step - loss: 1.3545\n",
            "Epoch 67/100\n",
            "21/21 [==============================] - 2s 53ms/step - loss: 1.3488\n",
            "Epoch 68/100\n",
            "21/21 [==============================] - 2s 53ms/step - loss: 1.3445\n",
            "Epoch 69/100\n",
            "21/21 [==============================] - 2s 53ms/step - loss: 1.3389\n",
            "Epoch 70/100\n",
            "21/21 [==============================] - 2s 53ms/step - loss: 1.3425\n",
            "Epoch 71/100\n",
            "21/21 [==============================] - 2s 53ms/step - loss: 1.3369\n",
            "Epoch 72/100\n",
            "21/21 [==============================] - 2s 52ms/step - loss: 1.3320\n",
            "Epoch 73/100\n",
            "21/21 [==============================] - 2s 52ms/step - loss: 1.3284\n",
            "Epoch 74/100\n",
            "21/21 [==============================] - 2s 52ms/step - loss: 1.3258\n",
            "Epoch 75/100\n",
            "21/21 [==============================] - 2s 53ms/step - loss: 1.3270\n",
            "Epoch 76/100\n",
            "21/21 [==============================] - 2s 53ms/step - loss: 1.3192\n",
            "Epoch 77/100\n",
            "21/21 [==============================] - 2s 53ms/step - loss: 1.3146\n",
            "Epoch 78/100\n",
            "21/21 [==============================] - 2s 53ms/step - loss: 1.3124\n",
            "Epoch 79/100\n",
            "21/21 [==============================] - 2s 53ms/step - loss: 1.3136\n",
            "Epoch 80/100\n",
            "21/21 [==============================] - 2s 53ms/step - loss: 1.3063\n",
            "Epoch 81/100\n",
            "21/21 [==============================] - 2s 53ms/step - loss: 1.3059\n",
            "Epoch 82/100\n",
            "21/21 [==============================] - 2s 53ms/step - loss: 1.3045\n",
            "Epoch 83/100\n",
            "21/21 [==============================] - 2s 53ms/step - loss: 1.2990\n",
            "Epoch 84/100\n",
            "21/21 [==============================] - 2s 52ms/step - loss: 1.3033\n",
            "Epoch 85/100\n",
            "21/21 [==============================] - 2s 52ms/step - loss: 1.3011\n",
            "Epoch 86/100\n",
            "21/21 [==============================] - 2s 52ms/step - loss: 1.2942\n",
            "Epoch 87/100\n",
            "21/21 [==============================] - 2s 53ms/step - loss: 1.2911\n",
            "Epoch 88/100\n",
            "21/21 [==============================] - 2s 53ms/step - loss: 1.2895\n",
            "Epoch 89/100\n",
            "21/21 [==============================] - 2s 52ms/step - loss: 1.2905\n",
            "Epoch 90/100\n",
            "21/21 [==============================] - 2s 53ms/step - loss: 1.2841\n",
            "Epoch 91/100\n",
            "21/21 [==============================] - 2s 52ms/step - loss: 1.2826\n",
            "Epoch 92/100\n",
            "21/21 [==============================] - 2s 53ms/step - loss: 1.2796\n",
            "Epoch 93/100\n",
            "21/21 [==============================] - 2s 52ms/step - loss: 1.2768\n",
            "Epoch 94/100\n",
            "21/21 [==============================] - 2s 53ms/step - loss: 1.2742\n",
            "Epoch 95/100\n",
            "21/21 [==============================] - 2s 53ms/step - loss: 1.2692\n",
            "Epoch 96/100\n",
            "21/21 [==============================] - 2s 52ms/step - loss: 1.2719\n",
            "Epoch 97/100\n",
            "21/21 [==============================] - 2s 52ms/step - loss: 1.2698\n",
            "Epoch 98/100\n",
            "21/21 [==============================] - 2s 54ms/step - loss: 1.2696\n",
            "Epoch 99/100\n",
            "21/21 [==============================] - 2s 52ms/step - loss: 1.2648\n",
            "Epoch 100/100\n",
            "21/21 [==============================] - 2s 53ms/step - loss: 1.2583\n"
          ],
          "name": "stdout"
        }
      ]
    },
    {
      "cell_type": "code",
      "metadata": {
        "id": "vPGmAAXmVLGC",
        "colab": {
          "base_uri": "https://localhost:8080/"
        },
        "outputId": "73f620b2-dc1a-4403-f4dc-c21cc70e5c1c"
      },
      "source": [
        "lstm_model.summary()"
      ],
      "execution_count": null,
      "outputs": [
        {
          "output_type": "stream",
          "text": [
            "Model: \"lstm_model_2\"\n",
            "_________________________________________________________________\n",
            "Layer (type)                 Output Shape              Param #   \n",
            "=================================================================\n",
            "embedding_4 (Embedding)      multiple                  16896     \n",
            "_________________________________________________________________\n",
            "lstm_2 (LSTM)                multiple                  5246976   \n",
            "_________________________________________________________________\n",
            "dense_12 (Dense)             multiple                  67650     \n",
            "=================================================================\n",
            "Total params: 5,331,522\n",
            "Trainable params: 5,331,522\n",
            "Non-trainable params: 0\n",
            "_________________________________________________________________\n"
          ],
          "name": "stdout"
        }
      ]
    },
    {
      "cell_type": "code",
      "metadata": {
        "id": "4V4MfFg0RQJg"
      },
      "source": [
        "sampled_indices = tf.random.categorical(example_batch_predictions[0], num_samples=1)\n",
        "sampled_indices = tf.squeeze(sampled_indices, axis=-1).numpy()"
      ],
      "execution_count": null,
      "outputs": []
    },
    {
      "cell_type": "markdown",
      "metadata": {
        "id": "QM1Vbxs_URw5"
      },
      "source": [
        "This gives us, at each timestep, a prediction of the next character index:"
      ]
    },
    {
      "cell_type": "code",
      "metadata": {
        "id": "YqFMUQc_UFgM",
        "colab": {
          "base_uri": "https://localhost:8080/"
        },
        "outputId": "69c5a629-1573-454d-aa99-0690fc0118cf"
      },
      "source": [
        "sampled_indices"
      ],
      "execution_count": null,
      "outputs": [
        {
          "output_type": "execute_result",
          "data": {
            "text/plain": [
              "array([25, 20, 50, 31, 50, 33, 27, 40,  7,  7, 51,  4, 53, 27, 44, 53, 13,\n",
              "       33, 40, 52, 29, 57, 58, 13, 45, 13, 23, 58, 17, 36, 20, 15, 42, 25,\n",
              "       35, 45, 61,  9, 53, 54,  2, 18, 64, 48, 14, 24, 58, 13, 37, 30, 19,\n",
              "        6, 36,  7, 50,  3,  4,  0, 54, 24, 53, 25, 34, 19, 61, 20, 14, 63,\n",
              "       26, 15, 52, 38, 56, 29, 32, 24, 36,  5, 45, 34,  9, 58, 49, 61, 20,\n",
              "       38,  3, 20, 23, 35, 54, 25,  3, 16, 44,  0, 63, 31, 60, 59])"
            ]
          },
          "metadata": {
            "tags": []
          },
          "execution_count": 58
        }
      ]
    },
    {
      "cell_type": "markdown",
      "metadata": {
        "id": "kKkD5M6eoSiN"
      },
      "source": [
        "#### Generate text"
      ]
    },
    {
      "cell_type": "code",
      "metadata": {
        "id": "iSBU1tHmlUSs"
      },
      "source": [
        "class OneStep(tf.keras.Model):\n",
        "  def __init__(self, model, chars_from_ids, ids_from_chars, temperature=1.0):\n",
        "    super().__init__()\n",
        "    self.temperature = temperature\n",
        "    self.model = model\n",
        "    self.chars_from_ids = chars_from_ids\n",
        "    self.ids_from_chars = ids_from_chars\n",
        "\n",
        "    # Create a mask to prevent \"[UNK]\" from being generated.\n",
        "    skip_ids = self.ids_from_chars(['[UNK]'])[:, None]\n",
        "    sparse_mask = tf.SparseTensor(\n",
        "        # Put a -inf at each bad index.\n",
        "        values=[-float('inf')]*len(skip_ids),\n",
        "        indices=skip_ids,\n",
        "        # Match the shape to the vocabulary\n",
        "        dense_shape=[len(ids_from_chars.get_vocabulary())])\n",
        "    self.prediction_mask = tf.sparse.to_dense(sparse_mask)\n",
        "\n",
        "  @tf.function\n",
        "  def generate_one_step(self, inputs, states=None):\n",
        "    # Convert strings to token IDs.\n",
        "    input_chars = tf.strings.unicode_split(inputs, 'UTF-8')\n",
        "    input_ids = self.ids_from_chars(input_chars).to_tensor()\n",
        "\n",
        "    # Run the model.\n",
        "    # predicted_logits.shape is [batch, char, next_char_logits]\n",
        "    predicted_logits, states = self.model(inputs=input_ids, states=states,\n",
        "                                          return_state=True)\n",
        "    # Only use the last prediction.\n",
        "    predicted_logits = predicted_logits[:, -1, :]\n",
        "    predicted_logits = predicted_logits/self.temperature\n",
        "    # Apply the prediction mask: prevent \"[UNK]\" from being generated.\n",
        "    predicted_logits = predicted_logits + self.prediction_mask\n",
        "\n",
        "    # Sample the output logits to generate token IDs.\n",
        "    predicted_ids = tf.random.categorical(predicted_logits, num_samples=1)\n",
        "    predicted_ids = tf.squeeze(predicted_ids, axis=-1)\n",
        "\n",
        "    # Convert from token ids to characters\n",
        "    predicted_chars = self.chars_from_ids(predicted_ids)\n",
        "\n",
        "    # Return the characters and model state.\n",
        "    return predicted_chars, states"
      ],
      "execution_count": null,
      "outputs": []
    },
    {
      "cell_type": "code",
      "metadata": {
        "id": "fqMOuDutnOxK"
      },
      "source": [
        "lstm_one_step_model = OneStep(lstm_model, chars_from_ids, ids_from_chars)"
      ],
      "execution_count": null,
      "outputs": []
    },
    {
      "cell_type": "code",
      "metadata": {
        "id": "ZkLu7Y8UCMT7",
        "colab": {
          "base_uri": "https://localhost:8080/"
        },
        "outputId": "57b2ed6c-5147-4a3c-b807-e6a175819c40"
      },
      "source": [
        "start = time.time()\n",
        "states = None\n",
        "next_char = tf.constant(['ROMEO:'])\n",
        "result = [next_char]\n",
        "\n",
        "for n in range(1000):\n",
        "  next_char, states = lstm_one_step_model.generate_one_step(next_char, states=states)\n",
        "  result.append(next_char)\n",
        "\n",
        "result = tf.strings.join(result)\n",
        "end = time.time()\n",
        "print(result[0].numpy().decode('utf-8'), '\\n\\n' + '_'*80)\n",
        "print('\\nRun time:', end - start)"
      ],
      "execution_count": null,
      "outputs": [
        {
          "output_type": "stream",
          "text": [
            "ROMEO:\n",
            "As his hell and false Edward up the city.\n",
            "This is the lettles will do growly repair.\n",
            "Your gracious lords, woe poin a father,\n",
            "Your trial off have done enmity: it is:\n",
            "Thus did I seek for this affections to me;\n",
            "For one show found his grave is little sprintly.\n",
            "Here lives a man,\n",
            "Though you have learn'd it-off,' ten times does\n",
            "Against the doubled another house,\n",
            "That clost his inching youth: my goes may speak\n",
            "Awayers: abids, Signior York!\n",
            "Offer my services have fall'd moon he kiss\n",
            "'The issue without the thirds of enemiase\n",
            "That raised me to keep you finder\n",
            "As may we saw him friendly prayded;\n",
            "Mine state was too our deflory.\n",
            "\n",
            "Second Musician:\n",
            "Pats I here's over have stretch'd your country's arms;\n",
            "Before: trembling one, so light,\n",
            "And am the scapes of teempe, my bed, flower:\n",
            "but I; all thesen blows not wondering.\n",
            "\n",
            "LARTIUS:\n",
            "So shall I give; my lord; the people's true, o\n",
            "wast, fortune, fire, not for thy peace. Blossed, all; poor life,\n",
            "Maybe; for, I'll be with you: he majest,\n",
            "The provend on a humour \n",
            "\n",
            "________________________________________________________________________________\n",
            "\n",
            "Run time: 11.484649658203125\n"
          ],
          "name": "stdout"
        }
      ]
    },
    {
      "cell_type": "markdown",
      "metadata": {
        "id": "sxoWW3LCe780"
      },
      "source": [
        "With flipflop"
      ]
    },
    {
      "cell_type": "code",
      "metadata": {
        "id": "k18YHN0sga1t"
      },
      "source": [
        "class FF(keras.layers.Layer):\n",
        "\n",
        "    def __init__(self, units, **kwargs):\n",
        "        super(FF, self).__init__(**kwargs)\n",
        "        self.units = units\n",
        "        self.state_size = units\n",
        "        self.j_h = keras.layers.Dense(self.units)\n",
        "        self.j_x = keras.layers.Dense(self.units)\n",
        "        self.k_h = keras.layers.Dense(self.units)\n",
        "        self.k_x = keras.layers.Dense(self.units)\n",
        "\n",
        "    def build(self, input_shape):\n",
        "        self.built = True\n",
        "\n",
        "    def call(self, inputs, states):\n",
        "        prev_output = states[0]\n",
        "        j = tf.sigmoid(self.j_x(inputs) + self.j_h(prev_output))\n",
        "        k = tf.sigmoid(self.k_x(inputs) + self.k_h(prev_output))\n",
        "        output = j * (1 - prev_output) + (1 - k) * prev_output\n",
        "        return output, [output]"
      ],
      "execution_count": null,
      "outputs": []
    },
    {
      "cell_type": "code",
      "metadata": {
        "id": "E2VWnl5Te688"
      },
      "source": [
        "class FF_model(tf.keras.Model):\n",
        "  def __init__(self, vocab_size, embedding_dim, rnn_units):\n",
        "    super().__init__(self)\n",
        "    self.embedding = tf.keras.layers.Embedding(vocab_size, embedding_dim)\n",
        "    self.rnn = tf.keras.layers.RNN(FF(rnn_units),\n",
        "                                   return_sequences=True,\n",
        "                                   return_state=True)\n",
        "    self.dense = tf.keras.layers.Dense(vocab_size)\n",
        "\n",
        "  def call(self, inputs, states=None, return_state=False, training=False):\n",
        "    x = inputs\n",
        "    x = self.embedding(x, training=training)\n",
        "    if states is None:\n",
        "      states = self.rnn.get_initial_state(x)\n",
        "    x, states = self.rnn(x, initial_state=states, training=training)\n",
        "    x = self.dense(x, training=training)\n",
        "\n",
        "    if return_state:\n",
        "      return x, states\n",
        "    else:\n",
        "      return x"
      ],
      "execution_count": null,
      "outputs": []
    },
    {
      "cell_type": "code",
      "metadata": {
        "colab": {
          "base_uri": "https://localhost:8080/"
        },
        "id": "IhNiEMQefMGc",
        "outputId": "7c6594f2-f182-483b-fcce-3233ecdc8855"
      },
      "source": [
        "with strategy.scope():\n",
        "  ff_model = FF_model(\n",
        "      # Be sure the vocabulary size matches the `StringLookup` layers.\n",
        "      vocab_size=len(ids_from_chars.get_vocabulary()),\n",
        "      embedding_dim=embedding_dim,\n",
        "      rnn_units=rnn_units)\n",
        "  for input_example_batch, target_example_batch in dataset.take(1):\n",
        "      example_batch_predictions = ff_model(input_example_batch)\n",
        "      print(example_batch_predictions.shape, \"# (batch_size, sequence_length, vocab_size)\")\n",
        "  print(ff_model.summary())\n",
        "  adam = tf.keras.optimizers.Adam(learning_rate=0.01)\n",
        "  ff_model.compile(optimizer='adam', loss=loss)\n",
        "  ff_history = ff_model.fit(dataset, epochs=EPOCHS)"
      ],
      "execution_count": null,
      "outputs": [
        {
          "output_type": "stream",
          "text": [
            "(512, 100, 66) # (batch_size, sequence_length, vocab_size)\n",
            "Model: \"ff_model_1\"\n",
            "_________________________________________________________________\n",
            "Layer (type)                 Output Shape              Param #   \n",
            "=================================================================\n",
            "embedding_3 (Embedding)      multiple                  16896     \n",
            "_________________________________________________________________\n",
            "rnn_1 (RNN)                  multiple                  2625536   \n",
            "_________________________________________________________________\n",
            "dense_11 (Dense)             multiple                  67650     \n",
            "=================================================================\n",
            "Total params: 2,710,082\n",
            "Trainable params: 2,710,082\n",
            "Non-trainable params: 0\n",
            "_________________________________________________________________\n",
            "None\n",
            "Epoch 1/100\n",
            "21/21 [==============================] - 5s 40ms/step - loss: 3.5585\n",
            "Epoch 2/100\n",
            "21/21 [==============================] - 2s 40ms/step - loss: 3.1889\n",
            "Epoch 3/100\n",
            "21/21 [==============================] - 2s 39ms/step - loss: 2.9339\n",
            "Epoch 4/100\n",
            "21/21 [==============================] - 2s 39ms/step - loss: 2.6787\n",
            "Epoch 5/100\n",
            "21/21 [==============================] - 2s 39ms/step - loss: 2.4849\n",
            "Epoch 6/100\n",
            "21/21 [==============================] - 2s 39ms/step - loss: 2.3779\n",
            "Epoch 7/100\n",
            "21/21 [==============================] - 2s 39ms/step - loss: 2.3147\n",
            "Epoch 8/100\n",
            "21/21 [==============================] - 2s 39ms/step - loss: 2.2570\n",
            "Epoch 9/100\n",
            "21/21 [==============================] - 2s 40ms/step - loss: 2.2050\n",
            "Epoch 10/100\n",
            "21/21 [==============================] - 2s 39ms/step - loss: 2.1580\n",
            "Epoch 11/100\n",
            "21/21 [==============================] - 2s 39ms/step - loss: 2.1107\n",
            "Epoch 12/100\n",
            "21/21 [==============================] - 2s 40ms/step - loss: 2.0706\n",
            "Epoch 13/100\n",
            "21/21 [==============================] - 2s 39ms/step - loss: 2.0320\n",
            "Epoch 14/100\n",
            "21/21 [==============================] - 2s 40ms/step - loss: 1.9955\n",
            "Epoch 15/100\n",
            "21/21 [==============================] - 2s 40ms/step - loss: 1.9610\n",
            "Epoch 16/100\n",
            "21/21 [==============================] - 2s 40ms/step - loss: 1.9268\n",
            "Epoch 17/100\n",
            "21/21 [==============================] - 2s 40ms/step - loss: 1.8940\n",
            "Epoch 18/100\n",
            "21/21 [==============================] - 2s 39ms/step - loss: 1.8677\n",
            "Epoch 19/100\n",
            "21/21 [==============================] - 2s 40ms/step - loss: 1.8386\n",
            "Epoch 20/100\n",
            "21/21 [==============================] - 2s 40ms/step - loss: 1.8132\n",
            "Epoch 21/100\n",
            "21/21 [==============================] - 2s 39ms/step - loss: 1.7843\n",
            "Epoch 22/100\n",
            "21/21 [==============================] - 2s 39ms/step - loss: 1.7597\n",
            "Epoch 23/100\n",
            "21/21 [==============================] - 2s 40ms/step - loss: 1.7349\n",
            "Epoch 24/100\n",
            "21/21 [==============================] - 2s 39ms/step - loss: 1.7148\n",
            "Epoch 25/100\n",
            "21/21 [==============================] - 2s 40ms/step - loss: 1.6938\n",
            "Epoch 26/100\n",
            "21/21 [==============================] - 2s 39ms/step - loss: 1.6725\n",
            "Epoch 27/100\n",
            "21/21 [==============================] - 2s 40ms/step - loss: 1.6587\n",
            "Epoch 28/100\n",
            "21/21 [==============================] - 2s 40ms/step - loss: 1.6384\n",
            "Epoch 29/100\n",
            "21/21 [==============================] - 2s 40ms/step - loss: 1.6200\n",
            "Epoch 30/100\n",
            "21/21 [==============================] - 2s 39ms/step - loss: 1.6071\n",
            "Epoch 31/100\n",
            "21/21 [==============================] - 2s 39ms/step - loss: 1.5900\n",
            "Epoch 32/100\n",
            "21/21 [==============================] - 2s 40ms/step - loss: 1.5764\n",
            "Epoch 33/100\n",
            "21/21 [==============================] - 2s 40ms/step - loss: 1.5635\n",
            "Epoch 34/100\n",
            "21/21 [==============================] - 2s 39ms/step - loss: 1.5512\n",
            "Epoch 35/100\n",
            "21/21 [==============================] - 2s 40ms/step - loss: 1.5383\n",
            "Epoch 36/100\n",
            "21/21 [==============================] - 2s 40ms/step - loss: 1.5281\n",
            "Epoch 37/100\n",
            "21/21 [==============================] - 2s 40ms/step - loss: 1.5149\n",
            "Epoch 38/100\n",
            "21/21 [==============================] - 2s 39ms/step - loss: 1.5103\n",
            "Epoch 39/100\n",
            "21/21 [==============================] - 2s 40ms/step - loss: 1.4955\n",
            "Epoch 40/100\n",
            "21/21 [==============================] - 2s 40ms/step - loss: 1.4888\n",
            "Epoch 41/100\n",
            "21/21 [==============================] - 2s 39ms/step - loss: 1.4789\n",
            "Epoch 42/100\n",
            "21/21 [==============================] - 2s 40ms/step - loss: 1.4687\n",
            "Epoch 43/100\n",
            "21/21 [==============================] - 2s 40ms/step - loss: 1.4631\n",
            "Epoch 44/100\n",
            "21/21 [==============================] - 2s 40ms/step - loss: 1.4504\n",
            "Epoch 45/100\n",
            "21/21 [==============================] - 2s 40ms/step - loss: 1.4440\n",
            "Epoch 46/100\n",
            "21/21 [==============================] - 2s 39ms/step - loss: 1.4372\n",
            "Epoch 47/100\n",
            "21/21 [==============================] - 2s 41ms/step - loss: 1.4311\n",
            "Epoch 48/100\n",
            "21/21 [==============================] - 2s 39ms/step - loss: 1.4269\n",
            "Epoch 49/100\n",
            "21/21 [==============================] - 2s 39ms/step - loss: 1.4166\n",
            "Epoch 50/100\n",
            "21/21 [==============================] - 2s 40ms/step - loss: 1.4091\n",
            "Epoch 51/100\n",
            "21/21 [==============================] - 2s 39ms/step - loss: 1.4011\n",
            "Epoch 52/100\n",
            "21/21 [==============================] - 2s 40ms/step - loss: 1.3952\n",
            "Epoch 53/100\n",
            "21/21 [==============================] - 2s 39ms/step - loss: 1.3884\n",
            "Epoch 54/100\n",
            "21/21 [==============================] - 2s 40ms/step - loss: 1.3846\n",
            "Epoch 55/100\n",
            "21/21 [==============================] - 2s 40ms/step - loss: 1.3775\n",
            "Epoch 56/100\n",
            "21/21 [==============================] - 2s 39ms/step - loss: 1.3719\n",
            "Epoch 57/100\n",
            "21/21 [==============================] - 2s 40ms/step - loss: 1.3665\n",
            "Epoch 58/100\n",
            "21/21 [==============================] - 2s 40ms/step - loss: 1.3624\n",
            "Epoch 59/100\n",
            "21/21 [==============================] - 2s 40ms/step - loss: 1.3583\n",
            "Epoch 60/100\n",
            "21/21 [==============================] - 2s 41ms/step - loss: 1.3533\n",
            "Epoch 61/100\n",
            "21/21 [==============================] - 2s 40ms/step - loss: 1.3467\n",
            "Epoch 62/100\n",
            "21/21 [==============================] - 2s 40ms/step - loss: 1.3437\n",
            "Epoch 63/100\n",
            "21/21 [==============================] - 2s 39ms/step - loss: 1.3419\n",
            "Epoch 64/100\n",
            "21/21 [==============================] - 2s 40ms/step - loss: 1.3339\n",
            "Epoch 65/100\n",
            "21/21 [==============================] - 2s 40ms/step - loss: 1.3289\n",
            "Epoch 66/100\n",
            "21/21 [==============================] - 2s 40ms/step - loss: 1.3230\n",
            "Epoch 67/100\n",
            "21/21 [==============================] - 2s 40ms/step - loss: 1.3195\n",
            "Epoch 68/100\n",
            "21/21 [==============================] - 2s 40ms/step - loss: 1.3111\n",
            "Epoch 69/100\n",
            "21/21 [==============================] - 2s 40ms/step - loss: 1.3133\n",
            "Epoch 70/100\n",
            "21/21 [==============================] - 2s 40ms/step - loss: 1.3064\n",
            "Epoch 71/100\n",
            "21/21 [==============================] - 2s 40ms/step - loss: 1.2999\n",
            "Epoch 72/100\n",
            "21/21 [==============================] - 2s 40ms/step - loss: 1.2970\n",
            "Epoch 73/100\n",
            "21/21 [==============================] - 2s 40ms/step - loss: 1.2953\n",
            "Epoch 74/100\n",
            "21/21 [==============================] - 2s 39ms/step - loss: 1.2896\n",
            "Epoch 75/100\n",
            "21/21 [==============================] - 2s 40ms/step - loss: 1.2868\n",
            "Epoch 76/100\n",
            "21/21 [==============================] - 2s 39ms/step - loss: 1.2824\n",
            "Epoch 77/100\n",
            "21/21 [==============================] - 2s 40ms/step - loss: 1.2795\n",
            "Epoch 78/100\n",
            "21/21 [==============================] - 2s 40ms/step - loss: 1.2760\n",
            "Epoch 79/100\n",
            "21/21 [==============================] - 2s 40ms/step - loss: 1.2716\n",
            "Epoch 80/100\n",
            "21/21 [==============================] - 2s 40ms/step - loss: 1.2687\n",
            "Epoch 81/100\n",
            "21/21 [==============================] - 2s 40ms/step - loss: 1.2635\n",
            "Epoch 82/100\n",
            "21/21 [==============================] - 2s 40ms/step - loss: 1.2590\n",
            "Epoch 83/100\n",
            "21/21 [==============================] - 2s 39ms/step - loss: 1.2552\n",
            "Epoch 84/100\n",
            "21/21 [==============================] - 2s 40ms/step - loss: 1.2531\n",
            "Epoch 85/100\n",
            "21/21 [==============================] - 2s 40ms/step - loss: 1.2508\n",
            "Epoch 86/100\n",
            "21/21 [==============================] - 2s 40ms/step - loss: 1.2481\n",
            "Epoch 87/100\n",
            "21/21 [==============================] - 2s 40ms/step - loss: 1.2434\n",
            "Epoch 88/100\n",
            "21/21 [==============================] - 2s 40ms/step - loss: 1.2396\n",
            "Epoch 89/100\n",
            "21/21 [==============================] - 2s 40ms/step - loss: 1.2388\n",
            "Epoch 90/100\n",
            "21/21 [==============================] - 2s 41ms/step - loss: 1.2325\n",
            "Epoch 91/100\n",
            "21/21 [==============================] - 2s 40ms/step - loss: 1.2288\n",
            "Epoch 92/100\n",
            "21/21 [==============================] - 2s 40ms/step - loss: 1.2276\n",
            "Epoch 93/100\n",
            "21/21 [==============================] - 2s 40ms/step - loss: 1.2272\n",
            "Epoch 94/100\n",
            "21/21 [==============================] - 2s 40ms/step - loss: 1.2223\n",
            "Epoch 95/100\n",
            "21/21 [==============================] - 2s 40ms/step - loss: 1.2192\n",
            "Epoch 96/100\n",
            "21/21 [==============================] - 2s 40ms/step - loss: 1.2193\n",
            "Epoch 97/100\n",
            "21/21 [==============================] - 2s 40ms/step - loss: 1.2119\n",
            "Epoch 98/100\n",
            "21/21 [==============================] - 2s 39ms/step - loss: 1.2083\n",
            "Epoch 99/100\n",
            "21/21 [==============================] - 2s 40ms/step - loss: 1.2054\n",
            "Epoch 100/100\n",
            "21/21 [==============================] - 2s 40ms/step - loss: 1.1998\n"
          ],
          "name": "stdout"
        }
      ]
    },
    {
      "cell_type": "code",
      "metadata": {
        "id": "40BcWhpnf4wO"
      },
      "source": [
        "ff_one_step_model = OneStep(ff_model, chars_from_ids, ids_from_chars)"
      ],
      "execution_count": null,
      "outputs": []
    },
    {
      "cell_type": "code",
      "metadata": {
        "colab": {
          "base_uri": "https://localhost:8080/"
        },
        "id": "6GEPXwLZf_2w",
        "outputId": "de9975ef-3eb5-4318-8e17-286ee01eab91"
      },
      "source": [
        "start = time.time()\n",
        "states = None\n",
        "next_char = tf.constant(['ROMEO:'])\n",
        "result = [next_char]\n",
        "\n",
        "for n in range(1000):\n",
        "  next_char, states = ff_one_step_model.generate_one_step(next_char, states=states)\n",
        "  result.append(next_char)\n",
        "\n",
        "result = tf.strings.join(result)\n",
        "end = time.time()\n",
        "print(result[0].numpy().decode('utf-8'), '\\n\\n' + '_'*80)\n",
        "print('\\nRun time:', end - start)"
      ],
      "execution_count": null,
      "outputs": [
        {
          "output_type": "stream",
          "text": [
            "ROMEO:\n",
            "Is not it! Voluble; give your general saint;\n",
            "She were all: this is come brush'd alove,\n",
            "And traitor him for rude, that back again; yet sure,\n",
            "Yet a mind bid me with repity here.\n",
            "\n",
            "RICHOOS:\n",
            "I have becamed done, as you perchance and tell thereof,\n",
            "Both in the beggar hate, conlein on thy brother:\n",
            "Yet beggar to the faith, yet he, as he' whom was\n",
            "That I, unreasons, with a leave, and blunt goodly.\n",
            "\n",
            "KING EDWARD IV:\n",
            "Now it that violent cuttain\n",
            "Presence; and weigh affection,\n",
            "His troth?--'tod God, I!\n",
            "Shall I am never speak, that I have gone.\n",
            "\n",
            "Ventious,\n",
            "She have is lates of that say the cincer:\n",
            "Under the sortuness joy is fooler;\n",
            "And rather mother from the banish.\n",
            "Very go twal liberty, who comest thou\n",
            "deny to and time, and soil-whum doublied mine.\n",
            "Because hath he shall have entertatching dam\n",
            "Our pace of darmward in govern wing\n",
            "Of fly.\n",
            "\n",
            "First Keeper: I willow'd with chamber, to been the people.\n",
            "Call, not breathed more authority to with some\n",
            "jefty malice; thou art dangerous are not news\n",
            "Is news Petruch \n",
            "\n",
            "________________________________________________________________________________\n",
            "\n",
            "Run time: 8.352195978164673\n"
          ],
          "name": "stdout"
        }
      ]
    },
    {
      "cell_type": "markdown",
      "metadata": {
        "id": "KkAi25BR5gjo"
      },
      "source": [
        "Visualizations"
      ]
    },
    {
      "cell_type": "code",
      "metadata": {
        "colab": {
          "base_uri": "https://localhost:8080/",
          "height": 295
        },
        "id": "TJ7J0m9b5jj9",
        "outputId": "4d831f41-26bf-428d-c181-c5f3189a4bc0"
      },
      "source": [
        "from matplotlib import pyplot as plt\n",
        "plt.plot(ff_history.history['loss'], label='FF loss')\n",
        "plt.plot(lstm_history.history['loss'], label='LSTM loss')\n",
        "plt.legend()\n",
        "plt.xlabel(\"Epochs\")\n",
        "plt.ylabel(\"Training loss\")\n",
        "plt.title(\"Training loss - FF vs LSTM\")\n",
        "plt.show()"
      ],
      "execution_count": null,
      "outputs": [
        {
          "output_type": "display_data",
          "data": {
            "image/png": "[encoded data removed]",
            "text/plain": [
              "<Figure size 432x288 with 1 Axes>"
            ]
          },
          "metadata": {
            "tags": [],
            "needs_background": "light"
          }
        }
      ]
    },
    {
      "cell_type": "code",
      "metadata": {
        "id": "DN23_Njs6T-u"
      },
      "source": [
        "#save models\n",
        "lstm_one_step_model.save_weights('lstm_one_step/checkpoint')\n",
        "ff_one_step_model.save_weights('ff_one_step/checkpoint')"
      ],
      "execution_count": null,
      "outputs": []
    }
  ],
  "metadata": {
    "accelerator": "TPU",
    "colab": {
      "name": "shakespear_text_gen.ipynb",
      "provenance": [],
      "collapsed_sections": [],
      "toc_visible": true
    },
    "kernelspec": {
      "display_name": "Python 3",
      "name": "python3"
    }
  },
  "nbformat": 4,
  "nbformat_minor": 0
}